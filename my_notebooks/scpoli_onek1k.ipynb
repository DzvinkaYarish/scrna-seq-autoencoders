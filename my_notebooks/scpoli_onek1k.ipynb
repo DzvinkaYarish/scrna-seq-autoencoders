{
 "cells": [
  {
   "cell_type": "code",
   "execution_count": 1,
   "id": "7044fab3-182f-4f8a-8a13-449d7af0f786",
   "metadata": {},
   "outputs": [],
   "source": [
    "import torch"
   ]
  },
  {
   "cell_type": "code",
   "execution_count": 2,
   "id": "046d67cd-84a7-4b87-be94-d28dca661345",
   "metadata": {},
   "outputs": [
    {
     "name": "stderr",
     "output_type": "stream",
     "text": [
      "WARNING:root:In order to use the mouse gastrulation seqFISH datsets, please install squidpy (see https://github.com/scverse/squidpy).\n",
      "WARNING:root:In order to use sagenet models, please install pytorch geometric (see https://pytorch-geometric.readthedocs.io) and \n",
      " captum (see https://github.com/pytorch/captum).\n",
      "INFO:pytorch_lightning.utilities.seed:Global seed set to 0\n",
      "/gpfs/space/home/dzvenymy/.conda/envs/scarches_p_3_10/lib/python3.10/site-packages/pytorch_lightning-1.7.7-py3.10.egg/pytorch_lightning/utilities/warnings.py:53: LightningDeprecationWarning: pytorch_lightning.utilities.warnings.rank_zero_deprecation has been deprecated in v1.6 and will be removed in v1.8. Use the equivalent function from the pytorch_lightning.utilities.rank_zero module instead.\n",
      "  new_rank_zero_deprecation(\n",
      "/gpfs/space/home/dzvenymy/.conda/envs/scarches_p_3_10/lib/python3.10/site-packages/pytorch_lightning-1.7.7-py3.10.egg/pytorch_lightning/utilities/warnings.py:58: LightningDeprecationWarning: The `pytorch_lightning.loggers.base.rank_zero_experiment` is deprecated in v1.7 and will be removed in v1.9. Please use `pytorch_lightning.loggers.logger.rank_zero_experiment` instead.\n",
      "  return new_rank_zero_deprecation(*args, **kwargs)\n",
      "WARNING:root:mvTCR is not installed. To use mvTCR models, please install it first using \"pip install mvtcr\"\n",
      "WARNING:root:multigrate is not installed. To use multigrate models, please install it first using \"pip install multigrate\".\n"
     ]
    }
   ],
   "source": [
    "import os\n",
    "import numpy as np\n",
    "import scanpy as sc\n",
    "import pandas as pd\n",
    "import matplotlib.pyplot as plt\n",
    "import seaborn as sns\n",
    "\n",
    "from sklearn.metrics import classification_report\n",
    "from sklearn.metrics.pairwise import cosine_similarity\n",
    "\n",
    "import anndata as ad\n",
    "from scarches.dataset.trvae.data_handling import remove_sparsity\n",
    "from scarches.models.scpoli import scPoli\n",
    "\n",
    "import warnings\n",
    "warnings.filterwarnings('ignore')\n",
    "# %load_ext autoreload\n",
    "# %autoreload 2"
   ]
  },
  {
   "cell_type": "markdown",
   "id": "0a9180b9-1058-492c-9793-f4df420a1c0e",
   "metadata": {},
   "source": [
    "# Useful functions"
   ]
  },
  {
   "cell_type": "code",
   "execution_count": null,
   "id": "f4654bd5-ebeb-4d30-81e7-1fae8285a88b",
   "metadata": {},
   "outputs": [],
   "source": [
    "def sample_adata_for_viz(adata, frac=0.3, rs=3):\n",
    "    indx = adata.obs.sample(frac=frac, random_state=rs, ignore_index=True)\n",
    "    obs = adata.obs.iloc[list(indx.index)]\n",
    "    x = adata.X[list(indx.index)]\n",
    "    adata_frac = sc.AnnData(X=x, var=adata.var, obs=obs)\n",
    "    return adata_frac"
   ]
  },
  {
   "cell_type": "markdown",
   "id": "672464f9-85b2-45e5-8458-ef9ca5657cd8",
   "metadata": {
    "tags": []
   },
   "source": [
    "# OneK1K data"
   ]
  },
  {
   "cell_type": "code",
   "execution_count": 3,
   "id": "2efc878c-bae6-4124-a961-33063e3c435d",
   "metadata": {},
   "outputs": [],
   "source": [
    "adata = sc.read('/gpfs/space/home/dzvenymy/scarches/data/OneK1K/local.h5ad')"
   ]
  },
  {
   "cell_type": "markdown",
   "id": "0f5b8f66-b875-4f9e-a3c5-6fccba5fe1dd",
   "metadata": {
    "jp-MarkdownHeadingCollapsed": true,
    "tags": []
   },
   "source": [
    "## Data exploration"
   ]
  },
  {
   "cell_type": "code",
   "execution_count": 4,
   "id": "3a935e6f-804f-48a2-8c04-63e88614370f",
   "metadata": {},
   "outputs": [],
   "source": [
    "adata.obs['barcode_not_unique'] = adata.obs.index\n",
    "adata.obs['barcode_not_unique'] = adata.obs['barcode_not_unique'].apply(lambda x: x.split('-')[0])\n"
   ]
  },
  {
   "cell_type": "code",
   "execution_count": 6,
   "id": "a43101fd-4eb4-4e10-99d2-2e651f053011",
   "metadata": {},
   "outputs": [
    {
     "data": {
      "text/plain": [
       "603228"
      ]
     },
     "execution_count": 6,
     "metadata": {},
     "output_type": "execute_result"
    }
   ],
   "source": [
    "len(adata.obs['barcode_not_unique'].unique())ad.concat(adatas, label=\"dataset\")"
   ]
  },
  {
   "cell_type": "code",
   "execution_count": 14,
   "id": "03b1c861-9f7d-4186-a08d-367b453fe606",
   "metadata": {},
   "outputs": [
    {
     "data": {
      "text/plain": [
       "1248980"
      ]
     },
     "execution_count": 14,
     "metadata": {},
     "output_type": "execute_result"
    }
   ],
   "source": [
    "len(adata.obs)"
   ]
  },
  {
   "cell_type": "code",
   "execution_count": 16,
   "id": "3d049b04-1fe8-4a94-b01b-cb0b6ba10bc7",
   "metadata": {},
   "outputs": [
    {
     "data": {
      "text/html": [
       "<div>\n",
       "<style scoped>\n",
       "    .dataframe tbody tr th:only-of-type {\n",
       "        vertical-align: middle;\n",
       "    }\n",
       "\n",
       "    .dataframe tbody tr th {\n",
       "        vertical-align: top;\n",
       "    }\n",
       "\n",
       "    .dataframe thead th {\n",
       "        text-align: right;\n",
       "    }\n",
       "</style>\n",
       "<table border=\"1\" class=\"dataframe\">\n",
       "  <thead>\n",
       "    <tr style=\"text-align: right;\">\n",
       "      <th></th>\n",
       "      <th>orig.ident</th>\n",
       "      <th>nCount_RNA</th>\n",
       "      <th>nFeature_RNA</th>\n",
       "      <th>percent.mt</th>\n",
       "      <th>donor_id</th>\n",
       "      <th>pool_number</th>\n",
       "      <th>predicted.celltype.l2</th>\n",
       "      <th>predicted.celltype.l2.score</th>\n",
       "      <th>age</th>\n",
       "      <th>organism_ontology_term_id</th>\n",
       "      <th>...</th>\n",
       "      <th>is_primary_data</th>\n",
       "      <th>suspension_type</th>\n",
       "      <th>cell_type</th>\n",
       "      <th>assay</th>\n",
       "      <th>disease</th>\n",
       "      <th>organism</th>\n",
       "      <th>sex</th>\n",
       "      <th>tissue</th>\n",
       "      <th>self_reported_ethnicity</th>\n",
       "      <th>development_stage</th>\n",
       "    </tr>\n",
       "    <tr>\n",
       "      <th>barcode</th>\n",
       "      <th></th>\n",
       "      <th></th>\n",
       "      <th></th>\n",
       "      <th></th>\n",
       "      <th></th>\n",
       "      <th></th>\n",
       "      <th></th>\n",
       "      <th></th>\n",
       "      <th></th>\n",
       "      <th></th>\n",
       "      <th></th>\n",
       "      <th></th>\n",
       "      <th></th>\n",
       "      <th></th>\n",
       "      <th></th>\n",
       "      <th></th>\n",
       "      <th></th>\n",
       "      <th></th>\n",
       "      <th></th>\n",
       "      <th></th>\n",
       "      <th></th>\n",
       "    </tr>\n",
       "  </thead>\n",
       "  <tbody>\n",
       "    <tr>\n",
       "      <th>AAACCTGAGAATGTTG-1</th>\n",
       "      <td>onek1k</td>\n",
       "      <td>4921.0</td>\n",
       "      <td>1256</td>\n",
       "      <td>1.341191</td>\n",
       "      <td>691_692</td>\n",
       "      <td>1</td>\n",
       "      <td>CD4 TCM</td>\n",
       "      <td>0.605378</td>\n",
       "      <td>66</td>\n",
       "      <td>NCBITaxon:9606</td>\n",
       "      <td>...</td>\n",
       "      <td>True</td>\n",
       "      <td>cell</td>\n",
       "      <td>central memory CD4-positive, alpha-beta T cell</td>\n",
       "      <td>10x 3' v2</td>\n",
       "      <td>normal</td>\n",
       "      <td>Homo sapiens</td>\n",
       "      <td>male</td>\n",
       "      <td>blood</td>\n",
       "      <td>European</td>\n",
       "      <td>66-year-old human stage</td>\n",
       "    </tr>\n",
       "    <tr>\n",
       "      <th>AAACCTGAGAGAACAG-1</th>\n",
       "      <td>onek1k</td>\n",
       "      <td>2523.0</td>\n",
       "      <td>941</td>\n",
       "      <td>3.606817</td>\n",
       "      <td>693_694</td>\n",
       "      <td>1</td>\n",
       "      <td>NK</td>\n",
       "      <td>1.000000</td>\n",
       "      <td>88</td>\n",
       "      <td>NCBITaxon:9606</td>\n",
       "      <td>...</td>\n",
       "      <td>True</td>\n",
       "      <td>cell</td>\n",
       "      <td>natural killer cell</td>\n",
       "      <td>10x 3' v2</td>\n",
       "      <td>normal</td>\n",
       "      <td>Homo sapiens</td>\n",
       "      <td>female</td>\n",
       "      <td>blood</td>\n",
       "      <td>European</td>\n",
       "      <td>88-year-old human stage</td>\n",
       "    </tr>\n",
       "    <tr>\n",
       "      <th>AAACCTGAGCATGGCA-1</th>\n",
       "      <td>onek1k</td>\n",
       "      <td>2565.0</td>\n",
       "      <td>716</td>\n",
       "      <td>3.274854</td>\n",
       "      <td>688_689</td>\n",
       "      <td>1</td>\n",
       "      <td>CD4 Naive</td>\n",
       "      <td>0.557355</td>\n",
       "      <td>66</td>\n",
       "      <td>NCBITaxon:9606</td>\n",
       "      <td>...</td>\n",
       "      <td>True</td>\n",
       "      <td>cell</td>\n",
       "      <td>naive thymus-derived CD4-positive, alpha-beta ...</td>\n",
       "      <td>10x 3' v2</td>\n",
       "      <td>normal</td>\n",
       "      <td>Homo sapiens</td>\n",
       "      <td>male</td>\n",
       "      <td>blood</td>\n",
       "      <td>European</td>\n",
       "      <td>66-year-old human stage</td>\n",
       "    </tr>\n",
       "    <tr>\n",
       "      <th>AAACCTGAGTATTGGA-1</th>\n",
       "      <td>onek1k</td>\n",
       "      <td>8992.0</td>\n",
       "      <td>1859</td>\n",
       "      <td>2.524466</td>\n",
       "      <td>683_684</td>\n",
       "      <td>1</td>\n",
       "      <td>CD8 TEM</td>\n",
       "      <td>0.359614</td>\n",
       "      <td>78</td>\n",
       "      <td>NCBITaxon:9606</td>\n",
       "      <td>...</td>\n",
       "      <td>True</td>\n",
       "      <td>cell</td>\n",
       "      <td>effector memory CD8-positive, alpha-beta T cell</td>\n",
       "      <td>10x 3' v2</td>\n",
       "      <td>normal</td>\n",
       "      <td>Homo sapiens</td>\n",
       "      <td>male</td>\n",
       "      <td>blood</td>\n",
       "      <td>European</td>\n",
       "      <td>78-year-old human stage</td>\n",
       "    </tr>\n",
       "    <tr>\n",
       "      <th>AAACCTGAGTGTCCCG-1</th>\n",
       "      <td>onek1k</td>\n",
       "      <td>3591.0</td>\n",
       "      <td>992</td>\n",
       "      <td>4.678363</td>\n",
       "      <td>684_685</td>\n",
       "      <td>1</td>\n",
       "      <td>CD8 TEM</td>\n",
       "      <td>0.896674</td>\n",
       "      <td>75</td>\n",
       "      <td>NCBITaxon:9606</td>\n",
       "      <td>...</td>\n",
       "      <td>True</td>\n",
       "      <td>cell</td>\n",
       "      <td>effector memory CD8-positive, alpha-beta T cell</td>\n",
       "      <td>10x 3' v2</td>\n",
       "      <td>normal</td>\n",
       "      <td>Homo sapiens</td>\n",
       "      <td>female</td>\n",
       "      <td>blood</td>\n",
       "      <td>European</td>\n",
       "      <td>75-year-old human stage</td>\n",
       "    </tr>\n",
       "  </tbody>\n",
       "</table>\n",
       "<p>5 rows × 27 columns</p>\n",
       "</div>"
      ],
      "text/plain": [
       "                   orig.ident  nCount_RNA  nFeature_RNA  percent.mt donor_id  \\\n",
       "barcode                                                                        \n",
       "AAACCTGAGAATGTTG-1     onek1k      4921.0          1256    1.341191  691_692   \n",
       "AAACCTGAGAGAACAG-1     onek1k      2523.0           941    3.606817  693_694   \n",
       "AAACCTGAGCATGGCA-1     onek1k      2565.0           716    3.274854  688_689   \n",
       "AAACCTGAGTATTGGA-1     onek1k      8992.0          1859    2.524466  683_684   \n",
       "AAACCTGAGTGTCCCG-1     onek1k      3591.0           992    4.678363  684_685   \n",
       "\n",
       "                   pool_number predicted.celltype.l2  \\\n",
       "barcode                                                \n",
       "AAACCTGAGAATGTTG-1           1               CD4 TCM   \n",
       "AAACCTGAGAGAACAG-1           1                    NK   \n",
       "AAACCTGAGCATGGCA-1           1             CD4 Naive   \n",
       "AAACCTGAGTATTGGA-1           1               CD8 TEM   \n",
       "AAACCTGAGTGTCCCG-1           1               CD8 TEM   \n",
       "\n",
       "                    predicted.celltype.l2.score  age  \\\n",
       "barcode                                                \n",
       "AAACCTGAGAATGTTG-1                     0.605378   66   \n",
       "AAACCTGAGAGAACAG-1                     1.000000   88   \n",
       "AAACCTGAGCATGGCA-1                     0.557355   66   \n",
       "AAACCTGAGTATTGGA-1                     0.359614   78   \n",
       "AAACCTGAGTGTCCCG-1                     0.896674   75   \n",
       "\n",
       "                   organism_ontology_term_id  ... is_primary_data  \\\n",
       "barcode                                       ...                   \n",
       "AAACCTGAGAATGTTG-1            NCBITaxon:9606  ...            True   \n",
       "AAACCTGAGAGAACAG-1            NCBITaxon:9606  ...            True   \n",
       "AAACCTGAGCATGGCA-1            NCBITaxon:9606  ...            True   \n",
       "AAACCTGAGTATTGGA-1            NCBITaxon:9606  ...            True   \n",
       "AAACCTGAGTGTCCCG-1            NCBITaxon:9606  ...            True   \n",
       "\n",
       "                   suspension_type  \\\n",
       "barcode                              \n",
       "AAACCTGAGAATGTTG-1            cell   \n",
       "AAACCTGAGAGAACAG-1            cell   \n",
       "AAACCTGAGCATGGCA-1            cell   \n",
       "AAACCTGAGTATTGGA-1            cell   \n",
       "AAACCTGAGTGTCCCG-1            cell   \n",
       "\n",
       "                                                            cell_type  \\\n",
       "barcode                                                                 \n",
       "AAACCTGAGAATGTTG-1     central memory CD4-positive, alpha-beta T cell   \n",
       "AAACCTGAGAGAACAG-1                                natural killer cell   \n",
       "AAACCTGAGCATGGCA-1  naive thymus-derived CD4-positive, alpha-beta ...   \n",
       "AAACCTGAGTATTGGA-1    effector memory CD8-positive, alpha-beta T cell   \n",
       "AAACCTGAGTGTCCCG-1    effector memory CD8-positive, alpha-beta T cell   \n",
       "\n",
       "                        assay disease      organism     sex  tissue  \\\n",
       "barcode                                                               \n",
       "AAACCTGAGAATGTTG-1  10x 3' v2  normal  Homo sapiens    male   blood   \n",
       "AAACCTGAGAGAACAG-1  10x 3' v2  normal  Homo sapiens  female   blood   \n",
       "AAACCTGAGCATGGCA-1  10x 3' v2  normal  Homo sapiens    male   blood   \n",
       "AAACCTGAGTATTGGA-1  10x 3' v2  normal  Homo sapiens    male   blood   \n",
       "AAACCTGAGTGTCCCG-1  10x 3' v2  normal  Homo sapiens  female   blood   \n",
       "\n",
       "                   self_reported_ethnicity        development_stage  \n",
       "barcode                                                              \n",
       "AAACCTGAGAATGTTG-1                European  66-year-old human stage  \n",
       "AAACCTGAGAGAACAG-1                European  88-year-old human stage  \n",
       "AAACCTGAGCATGGCA-1                European  66-year-old human stage  \n",
       "AAACCTGAGTATTGGA-1                European  78-year-old human stage  \n",
       "AAACCTGAGTGTCCCG-1                European  75-year-old human stage  \n",
       "\n",
       "[5 rows x 27 columns]"
      ]
     },
     "execution_count": 16,
     "metadata": {},
     "output_type": "execute_result"
    }
   ],
   "source": [
    "adata.obs.head(5)"
   ]
  },
  {
   "cell_type": "code",
   "execution_count": 21,
   "id": "a6733ff2-32d9-40e9-af0c-377f5404fc95",
   "metadata": {},
   "outputs": [
    {
     "data": {
      "text/html": [
       "<div>\n",
       "<style scoped>\n",
       "    .dataframe tbody tr th:only-of-type {\n",
       "        vertical-align: middle;\n",
       "    }\n",
       "\n",
       "    .dataframe tbody tr th {\n",
       "        vertical-align: top;\n",
       "    }\n",
       "\n",
       "    .dataframe thead th {\n",
       "        text-align: right;\n",
       "    }\n",
       "</style>\n",
       "<table border=\"1\" class=\"dataframe\">\n",
       "  <thead>\n",
       "    <tr style=\"text-align: right;\">\n",
       "      <th></th>\n",
       "      <th>orig.ident</th>\n",
       "      <th>nCount_RNA</th>\n",
       "      <th>nFeature_RNA</th>\n",
       "      <th>percent.mt</th>\n",
       "      <th>donor_id</th>\n",
       "      <th>pool_number</th>\n",
       "      <th>predicted.celltype.l2</th>\n",
       "      <th>predicted.celltype.l2.score</th>\n",
       "      <th>age</th>\n",
       "      <th>organism_ontology_term_id</th>\n",
       "      <th>...</th>\n",
       "      <th>is_primary_data</th>\n",
       "      <th>suspension_type</th>\n",
       "      <th>cell_type</th>\n",
       "      <th>assay</th>\n",
       "      <th>disease</th>\n",
       "      <th>organism</th>\n",
       "      <th>sex</th>\n",
       "      <th>tissue</th>\n",
       "      <th>self_reported_ethnicity</th>\n",
       "      <th>development_stage</th>\n",
       "    </tr>\n",
       "    <tr>\n",
       "      <th>barcode</th>\n",
       "      <th></th>\n",
       "      <th></th>\n",
       "      <th></th>\n",
       "      <th></th>\n",
       "      <th></th>\n",
       "      <th></th>\n",
       "      <th></th>\n",
       "      <th></th>\n",
       "      <th></th>\n",
       "      <th></th>\n",
       "      <th></th>\n",
       "      <th></th>\n",
       "      <th></th>\n",
       "      <th></th>\n",
       "      <th></th>\n",
       "      <th></th>\n",
       "      <th></th>\n",
       "      <th></th>\n",
       "      <th></th>\n",
       "      <th></th>\n",
       "      <th></th>\n",
       "    </tr>\n",
       "  </thead>\n",
       "  <tbody>\n",
       "    <tr>\n",
       "      <th>TTTGTCATCCGCTGTT-9</th>\n",
       "      <td>onek1k</td>\n",
       "      <td>4321.0</td>\n",
       "      <td>1073</td>\n",
       "      <td>3.031706</td>\n",
       "      <td>796_797</td>\n",
       "      <td>9</td>\n",
       "      <td>B intermediate</td>\n",
       "      <td>0.811524</td>\n",
       "      <td>64</td>\n",
       "      <td>NCBITaxon:9606</td>\n",
       "      <td>...</td>\n",
       "      <td>True</td>\n",
       "      <td>cell</td>\n",
       "      <td>transitional stage B cell</td>\n",
       "      <td>10x 3' v2</td>\n",
       "      <td>normal</td>\n",
       "      <td>Homo sapiens</td>\n",
       "      <td>male</td>\n",
       "      <td>blood</td>\n",
       "      <td>European</td>\n",
       "      <td>64-year-old human stage</td>\n",
       "    </tr>\n",
       "    <tr>\n",
       "      <th>TTTGTCATCCGTTGTC-9</th>\n",
       "      <td>onek1k</td>\n",
       "      <td>4890.0</td>\n",
       "      <td>1013</td>\n",
       "      <td>2.106339</td>\n",
       "      <td>800_801</td>\n",
       "      <td>9</td>\n",
       "      <td>CD4 TCM</td>\n",
       "      <td>0.922046</td>\n",
       "      <td>37</td>\n",
       "      <td>NCBITaxon:9606</td>\n",
       "      <td>...</td>\n",
       "      <td>True</td>\n",
       "      <td>cell</td>\n",
       "      <td>central memory CD4-positive, alpha-beta T cell</td>\n",
       "      <td>10x 3' v2</td>\n",
       "      <td>normal</td>\n",
       "      <td>Homo sapiens</td>\n",
       "      <td>female</td>\n",
       "      <td>blood</td>\n",
       "      <td>European</td>\n",
       "      <td>37-year-old human stage</td>\n",
       "    </tr>\n",
       "    <tr>\n",
       "      <th>TTTGTCATCGCCGTGA-9</th>\n",
       "      <td>onek1k</td>\n",
       "      <td>4636.0</td>\n",
       "      <td>919</td>\n",
       "      <td>2.243313</td>\n",
       "      <td>821_822</td>\n",
       "      <td>9</td>\n",
       "      <td>CD4 Naive</td>\n",
       "      <td>0.763648</td>\n",
       "      <td>90</td>\n",
       "      <td>NCBITaxon:9606</td>\n",
       "      <td>...</td>\n",
       "      <td>True</td>\n",
       "      <td>cell</td>\n",
       "      <td>naive thymus-derived CD4-positive, alpha-beta ...</td>\n",
       "      <td>10x 3' v2</td>\n",
       "      <td>normal</td>\n",
       "      <td>Homo sapiens</td>\n",
       "      <td>male</td>\n",
       "      <td>blood</td>\n",
       "      <td>European</td>\n",
       "      <td>90-year-old human stage</td>\n",
       "    </tr>\n",
       "    <tr>\n",
       "      <th>TTTGTCATCGCGGATC-9</th>\n",
       "      <td>onek1k</td>\n",
       "      <td>4536.0</td>\n",
       "      <td>1168</td>\n",
       "      <td>3.306878</td>\n",
       "      <td>840_841</td>\n",
       "      <td>9</td>\n",
       "      <td>CD4 TCM</td>\n",
       "      <td>0.865812</td>\n",
       "      <td>75</td>\n",
       "      <td>NCBITaxon:9606</td>\n",
       "      <td>...</td>\n",
       "      <td>True</td>\n",
       "      <td>cell</td>\n",
       "      <td>central memory CD4-positive, alpha-beta T cell</td>\n",
       "      <td>10x 3' v2</td>\n",
       "      <td>normal</td>\n",
       "      <td>Homo sapiens</td>\n",
       "      <td>female</td>\n",
       "      <td>blood</td>\n",
       "      <td>European</td>\n",
       "      <td>75-year-old human stage</td>\n",
       "    </tr>\n",
       "    <tr>\n",
       "      <th>TTTGTCATCTCGTATT-9</th>\n",
       "      <td>onek1k</td>\n",
       "      <td>4387.0</td>\n",
       "      <td>1300</td>\n",
       "      <td>2.165489</td>\n",
       "      <td>821_822</td>\n",
       "      <td>9</td>\n",
       "      <td>CD4 TEM</td>\n",
       "      <td>0.917827</td>\n",
       "      <td>90</td>\n",
       "      <td>NCBITaxon:9606</td>\n",
       "      <td>...</td>\n",
       "      <td>True</td>\n",
       "      <td>cell</td>\n",
       "      <td>effector memory CD4-positive, alpha-beta T cell</td>\n",
       "      <td>10x 3' v2</td>\n",
       "      <td>normal</td>\n",
       "      <td>Homo sapiens</td>\n",
       "      <td>male</td>\n",
       "      <td>blood</td>\n",
       "      <td>European</td>\n",
       "      <td>90-year-old human stage</td>\n",
       "    </tr>\n",
       "  </tbody>\n",
       "</table>\n",
       "<p>5 rows × 27 columns</p>\n",
       "</div>"
      ],
      "text/plain": [
       "                   orig.ident  nCount_RNA  nFeature_RNA  percent.mt donor_id  \\\n",
       "barcode                                                                        \n",
       "TTTGTCATCCGCTGTT-9     onek1k      4321.0          1073    3.031706  796_797   \n",
       "TTTGTCATCCGTTGTC-9     onek1k      4890.0          1013    2.106339  800_801   \n",
       "TTTGTCATCGCCGTGA-9     onek1k      4636.0           919    2.243313  821_822   \n",
       "TTTGTCATCGCGGATC-9     onek1k      4536.0          1168    3.306878  840_841   \n",
       "TTTGTCATCTCGTATT-9     onek1k      4387.0          1300    2.165489  821_822   \n",
       "\n",
       "                   pool_number predicted.celltype.l2  \\\n",
       "barcode                                                \n",
       "TTTGTCATCCGCTGTT-9           9        B intermediate   \n",
       "TTTGTCATCCGTTGTC-9           9               CD4 TCM   \n",
       "TTTGTCATCGCCGTGA-9           9             CD4 Naive   \n",
       "TTTGTCATCGCGGATC-9           9               CD4 TCM   \n",
       "TTTGTCATCTCGTATT-9           9               CD4 TEM   \n",
       "\n",
       "                    predicted.celltype.l2.score  age  \\\n",
       "barcode                                                \n",
       "TTTGTCATCCGCTGTT-9                     0.811524   64   \n",
       "TTTGTCATCCGTTGTC-9                     0.922046   37   \n",
       "TTTGTCATCGCCGTGA-9                     0.763648   90   \n",
       "TTTGTCATCGCGGATC-9                     0.865812   75   \n",
       "TTTGTCATCTCGTATT-9                     0.917827   90   \n",
       "\n",
       "                   organism_ontology_term_id  ... is_primary_data  \\\n",
       "barcode                                       ...                   \n",
       "TTTGTCATCCGCTGTT-9            NCBITaxon:9606  ...            True   \n",
       "TTTGTCATCCGTTGTC-9            NCBITaxon:9606  ...            True   \n",
       "TTTGTCATCGCCGTGA-9            NCBITaxon:9606  ...            True   \n",
       "TTTGTCATCGCGGATC-9            NCBITaxon:9606  ...            True   \n",
       "TTTGTCATCTCGTATT-9            NCBITaxon:9606  ...            True   \n",
       "\n",
       "                   suspension_type  \\\n",
       "barcode                              \n",
       "TTTGTCATCCGCTGTT-9            cell   \n",
       "TTTGTCATCCGTTGTC-9            cell   \n",
       "TTTGTCATCGCCGTGA-9            cell   \n",
       "TTTGTCATCGCGGATC-9            cell   \n",
       "TTTGTCATCTCGTATT-9            cell   \n",
       "\n",
       "                                                            cell_type  \\\n",
       "barcode                                                                 \n",
       "TTTGTCATCCGCTGTT-9                          transitional stage B cell   \n",
       "TTTGTCATCCGTTGTC-9     central memory CD4-positive, alpha-beta T cell   \n",
       "TTTGTCATCGCCGTGA-9  naive thymus-derived CD4-positive, alpha-beta ...   \n",
       "TTTGTCATCGCGGATC-9     central memory CD4-positive, alpha-beta T cell   \n",
       "TTTGTCATCTCGTATT-9    effector memory CD4-positive, alpha-beta T cell   \n",
       "\n",
       "                        assay disease      organism     sex  tissue  \\\n",
       "barcode                                                               \n",
       "TTTGTCATCCGCTGTT-9  10x 3' v2  normal  Homo sapiens    male   blood   \n",
       "TTTGTCATCCGTTGTC-9  10x 3' v2  normal  Homo sapiens  female   blood   \n",
       "TTTGTCATCGCCGTGA-9  10x 3' v2  normal  Homo sapiens    male   blood   \n",
       "TTTGTCATCGCGGATC-9  10x 3' v2  normal  Homo sapiens  female   blood   \n",
       "TTTGTCATCTCGTATT-9  10x 3' v2  normal  Homo sapiens    male   blood   \n",
       "\n",
       "                   self_reported_ethnicity        development_stage  \n",
       "barcode                                                              \n",
       "TTTGTCATCCGCTGTT-9                European  64-year-old human stage  \n",
       "TTTGTCATCCGTTGTC-9                European  37-year-old human stage  \n",
       "TTTGTCATCGCCGTGA-9                European  90-year-old human stage  \n",
       "TTTGTCATCGCGGATC-9                European  75-year-old human stage  \n",
       "TTTGTCATCTCGTATT-9                European  90-year-old human stage  \n",
       "\n",
       "[5 rows x 27 columns]"
      ]
     },
     "execution_count": 21,
     "metadata": {},
     "output_type": "execute_result"
    }
   ],
   "source": [
    "adata.obs.tail(5)"
   ]
  },
  {
   "cell_type": "code",
   "execution_count": 17,
   "id": "104dc871-f865-4316-866d-54145ebad389",
   "metadata": {},
   "outputs": [
    {
     "data": {
      "text/plain": [
       "Index(['orig.ident', 'nCount_RNA', 'nFeature_RNA', 'percent.mt', 'donor_id',\n",
       "       'pool_number', 'predicted.celltype.l2', 'predicted.celltype.l2.score',\n",
       "       'age', 'organism_ontology_term_id', 'tissue_ontology_term_id',\n",
       "       'assay_ontology_term_id', 'disease_ontology_term_id',\n",
       "       'cell_type_ontology_term_id',\n",
       "       'self_reported_ethnicity_ontology_term_id',\n",
       "       'development_stage_ontology_term_id', 'sex_ontology_term_id',\n",
       "       'is_primary_data', 'suspension_type', 'cell_type', 'assay', 'disease',\n",
       "       'organism', 'sex', 'tissue', 'self_reported_ethnicity',\n",
       "       'development_stage'],\n",
       "      dtype='object')"
      ]
     },
     "execution_count": 17,
     "metadata": {},
     "output_type": "execute_result"
    }
   ],
   "source": [
    "adata.obs.columns"
   ]
  },
  {
   "cell_type": "code",
   "execution_count": 18,
   "id": "261d55b3-dc06-4e34-97ff-f8122c212b2f",
   "metadata": {},
   "outputs": [
    {
     "data": {
      "text/plain": [
       "['CL:0000904', 'CL:0000623', 'CL:0000895', 'CL:0000913', 'CL:0000788', ..., 'CL:2000001', 'CL:0000784', 'CL:0000625', 'CL:0000624', 'CL:0000451']\n",
       "Length: 29\n",
       "Categories (29, object): ['CL:0000232', 'CL:0000233', 'CL:0000451', 'CL:0000623', ..., 'CL:0002396', 'CL:0002489', 'CL:0008001', 'CL:2000001']"
      ]
     },
     "execution_count": 18,
     "metadata": {},
     "output_type": "execute_result"
    }
   ],
   "source": [
    "adata.obs['cell_type_ontology_term_id'].unique()"
   ]
  },
  {
   "cell_type": "code",
   "execution_count": 19,
   "id": "794b2f64-64c4-48be-bd2f-829759921b28",
   "metadata": {},
   "outputs": [
    {
     "data": {
      "text/plain": [
       "['central memory CD4-positive, alpha-beta T cell', 'natural killer cell', 'naive thymus-derived CD4-positive, alpha-beta..., 'effector memory CD8-positive, alpha-beta T cell', 'naive B cell', ..., 'peripheral blood mononuclear cell', 'plasmacytoid dendritic cell', 'CD8-positive, alpha-beta T cell', 'CD4-positive, alpha-beta T cell', 'dendritic cell']\n",
       "Length: 29\n",
       "Categories (29, object): ['erythrocyte', 'platelet', 'dendritic cell', 'natural killer cell', ..., 'CD14-low, CD16-positive monocyte', 'double negative thymocyte', 'hematopoietic precursor cell', 'peripheral blood mononuclear cell']"
      ]
     },
     "execution_count": 19,
     "metadata": {},
     "output_type": "execute_result"
    }
   ],
   "source": [
    "adata.obs['cell_type'].unique()"
   ]
  },
  {
   "cell_type": "code",
   "execution_count": 20,
   "id": "2671b211-848d-4770-a67c-a220f723b5c5",
   "metadata": {},
   "outputs": [
    {
     "data": {
      "text/plain": [
       "['1', '10', '11', '12', '13', ..., '75', '76', '77', '8', '9']\n",
       "Length: 75\n",
       "Categories (75, object): ['1', '2', '3', '4', ..., '74', '75', '76', '77']"
      ]
     },
     "execution_count": 20,
     "metadata": {},
     "output_type": "execute_result"
    }
   ],
   "source": [
    "adata.obs['pool_number'].unique()"
   ]
  },
  {
   "cell_type": "code",
   "execution_count": 76,
   "id": "90f90fd5-04ed-4e5f-bebf-3224c8fa009d",
   "metadata": {},
   "outputs": [
    {
     "data": {
      "text/plain": [
       "18940"
      ]
     },
     "execution_count": 76,
     "metadata": {},
     "output_type": "execute_result"
    }
   ],
   "source": [
    "adata.obs['pool_number'].value_counts().loc['41']"
   ]
  },
  {
   "cell_type": "code",
   "execution_count": null,
   "id": "bb091034-b6b5-482e-8240-f0e94b51e657",
   "metadata": {},
   "outputs": [],
   "source": []
  },
  {
   "cell_type": "markdown",
   "id": "cfd25582-ba23-4e20-9b2f-6bd789f389ee",
   "metadata": {
    "jp-MarkdownHeadingCollapsed": true,
    "tags": []
   },
   "source": [
    "## Get cell types for each pool counts"
   ]
  },
  {
   "cell_type": "code",
   "execution_count": 3,
   "id": "8e35506f-900f-4d44-b136-1ef1ffa4fc0d",
   "metadata": {
    "tags": []
   },
   "outputs": [
    {
     "data": {
      "text/html": [
       "<div>\n",
       "<style scoped>\n",
       "    .dataframe tbody tr th:only-of-type {\n",
       "        vertical-align: middle;\n",
       "    }\n",
       "\n",
       "    .dataframe tbody tr th {\n",
       "        vertical-align: top;\n",
       "    }\n",
       "\n",
       "    .dataframe thead th {\n",
       "        text-align: right;\n",
       "    }\n",
       "</style>\n",
       "<table border=\"1\" class=\"dataframe\">\n",
       "  <thead>\n",
       "    <tr style=\"text-align: right;\">\n",
       "      <th></th>\n",
       "      <th>id</th>\n",
       "      <th>accession</th>\n",
       "      <th>run_accession</th>\n",
       "      <th>experiment_accession</th>\n",
       "      <th>sample_accession</th>\n",
       "      <th>secondary_sample_accession</th>\n",
       "      <th>study_accession</th>\n",
       "      <th>secondary_study_accession</th>\n",
       "      <th>parent_study</th>\n",
       "      <th>submission_accession</th>\n",
       "      <th>...</th>\n",
       "      <th>fastq_md5</th>\n",
       "      <th>fastq_bytes</th>\n",
       "      <th>fastq_ftp</th>\n",
       "      <th>fastq_galaxy</th>\n",
       "      <th>fastq_aspera</th>\n",
       "      <th>fastq_1</th>\n",
       "      <th>fastq_2</th>\n",
       "      <th>md5_1</th>\n",
       "      <th>md5_2</th>\n",
       "      <th>single_end</th>\n",
       "    </tr>\n",
       "  </thead>\n",
       "  <tbody>\n",
       "    <tr>\n",
       "      <th>0</th>\n",
       "      <td>SRX14182503_SRR18028378</td>\n",
       "      <td>SAMN25948860</td>\n",
       "      <td>SRR18028378</td>\n",
       "      <td>SRX14182503</td>\n",
       "      <td>SAMN25948860</td>\n",
       "      <td>SRS12006093</td>\n",
       "      <td>PRJNA807049</td>\n",
       "      <td>SRP359840</td>\n",
       "      <td>NaN</td>\n",
       "      <td>SRA1372903</td>\n",
       "      <td>...</td>\n",
       "      <td>6ea049161c30f920a168a4ec7231e4b4</td>\n",
       "      <td>2139539305</td>\n",
       "      <td>ftp.sra.ebi.ac.uk/vol1/fastq/SRR180/078/SRR180...</td>\n",
       "      <td>ftp.sra.ebi.ac.uk/vol1/fastq/SRR180/078/SRR180...</td>\n",
       "      <td>fasp.sra.ebi.ac.uk:/vol1/fastq/SRR180/078/SRR1...</td>\n",
       "      <td>ftp.sra.ebi.ac.uk/vol1/fastq/SRR180/078/SRR180...</td>\n",
       "      <td>NaN</td>\n",
       "      <td>6ea049161c30f920a168a4ec7231e4b4</td>\n",
       "      <td>NaN</td>\n",
       "      <td>True</td>\n",
       "    </tr>\n",
       "    <tr>\n",
       "      <th>1</th>\n",
       "      <td>SRX14182503_SRR18028379</td>\n",
       "      <td>SAMN25948860</td>\n",
       "      <td>SRR18028379</td>\n",
       "      <td>SRX14182503</td>\n",
       "      <td>SAMN25948860</td>\n",
       "      <td>SRS12006093</td>\n",
       "      <td>PRJNA807049</td>\n",
       "      <td>SRP359840</td>\n",
       "      <td>NaN</td>\n",
       "      <td>SRA1372903</td>\n",
       "      <td>...</td>\n",
       "      <td>cee2592736a279539a109b333b3f109b</td>\n",
       "      <td>1981957689</td>\n",
       "      <td>ftp.sra.ebi.ac.uk/vol1/fastq/SRR180/079/SRR180...</td>\n",
       "      <td>ftp.sra.ebi.ac.uk/vol1/fastq/SRR180/079/SRR180...</td>\n",
       "      <td>fasp.sra.ebi.ac.uk:/vol1/fastq/SRR180/079/SRR1...</td>\n",
       "      <td>ftp.sra.ebi.ac.uk/vol1/fastq/SRR180/079/SRR180...</td>\n",
       "      <td>NaN</td>\n",
       "      <td>cee2592736a279539a109b333b3f109b</td>\n",
       "      <td>NaN</td>\n",
       "      <td>True</td>\n",
       "    </tr>\n",
       "    <tr>\n",
       "      <th>2</th>\n",
       "      <td>SRX14182503_SRR18028380</td>\n",
       "      <td>SAMN25948860</td>\n",
       "      <td>SRR18028380</td>\n",
       "      <td>SRX14182503</td>\n",
       "      <td>SAMN25948860</td>\n",
       "      <td>SRS12006093</td>\n",
       "      <td>PRJNA807049</td>\n",
       "      <td>SRP359840</td>\n",
       "      <td>NaN</td>\n",
       "      <td>SRA1372903</td>\n",
       "      <td>...</td>\n",
       "      <td>ba9622076695ff8e67bbf93c31a8f8f8</td>\n",
       "      <td>1989248167</td>\n",
       "      <td>ftp.sra.ebi.ac.uk/vol1/fastq/SRR180/080/SRR180...</td>\n",
       "      <td>ftp.sra.ebi.ac.uk/vol1/fastq/SRR180/080/SRR180...</td>\n",
       "      <td>fasp.sra.ebi.ac.uk:/vol1/fastq/SRR180/080/SRR1...</td>\n",
       "      <td>ftp.sra.ebi.ac.uk/vol1/fastq/SRR180/080/SRR180...</td>\n",
       "      <td>NaN</td>\n",
       "      <td>ba9622076695ff8e67bbf93c31a8f8f8</td>\n",
       "      <td>NaN</td>\n",
       "      <td>True</td>\n",
       "    </tr>\n",
       "    <tr>\n",
       "      <th>3</th>\n",
       "      <td>SRX14182503_SRR18028381</td>\n",
       "      <td>SAMN25948860</td>\n",
       "      <td>SRR18028381</td>\n",
       "      <td>SRX14182503</td>\n",
       "      <td>SAMN25948860</td>\n",
       "      <td>SRS12006093</td>\n",
       "      <td>PRJNA807049</td>\n",
       "      <td>SRP359840</td>\n",
       "      <td>NaN</td>\n",
       "      <td>SRA1372903</td>\n",
       "      <td>...</td>\n",
       "      <td>73f50d2c8af5757063c967e9124addba</td>\n",
       "      <td>1970104845</td>\n",
       "      <td>ftp.sra.ebi.ac.uk/vol1/fastq/SRR180/081/SRR180...</td>\n",
       "      <td>ftp.sra.ebi.ac.uk/vol1/fastq/SRR180/081/SRR180...</td>\n",
       "      <td>fasp.sra.ebi.ac.uk:/vol1/fastq/SRR180/081/SRR1...</td>\n",
       "      <td>ftp.sra.ebi.ac.uk/vol1/fastq/SRR180/081/SRR180...</td>\n",
       "      <td>NaN</td>\n",
       "      <td>73f50d2c8af5757063c967e9124addba</td>\n",
       "      <td>NaN</td>\n",
       "      <td>True</td>\n",
       "    </tr>\n",
       "    <tr>\n",
       "      <th>4</th>\n",
       "      <td>SRX14182503_SRR18028382</td>\n",
       "      <td>SAMN25948860</td>\n",
       "      <td>SRR18028382</td>\n",
       "      <td>SRX14182503</td>\n",
       "      <td>SAMN25948860</td>\n",
       "      <td>SRS12006093</td>\n",
       "      <td>PRJNA807049</td>\n",
       "      <td>SRP359840</td>\n",
       "      <td>NaN</td>\n",
       "      <td>SRA1372903</td>\n",
       "      <td>...</td>\n",
       "      <td>5d42d1f4fcbb3a0c6618d1809725fd00</td>\n",
       "      <td>2099757277</td>\n",
       "      <td>ftp.sra.ebi.ac.uk/vol1/fastq/SRR180/082/SRR180...</td>\n",
       "      <td>ftp.sra.ebi.ac.uk/vol1/fastq/SRR180/082/SRR180...</td>\n",
       "      <td>fasp.sra.ebi.ac.uk:/vol1/fastq/SRR180/082/SRR1...</td>\n",
       "      <td>ftp.sra.ebi.ac.uk/vol1/fastq/SRR180/082/SRR180...</td>\n",
       "      <td>NaN</td>\n",
       "      <td>5d42d1f4fcbb3a0c6618d1809725fd00</td>\n",
       "      <td>NaN</td>\n",
       "      <td>True</td>\n",
       "    </tr>\n",
       "  </tbody>\n",
       "</table>\n",
       "<p>5 rows × 40 columns</p>\n",
       "</div>"
      ],
      "text/plain": [
       "                        id     accession run_accession experiment_accession  \\\n",
       "0  SRX14182503_SRR18028378  SAMN25948860   SRR18028378          SRX14182503   \n",
       "1  SRX14182503_SRR18028379  SAMN25948860   SRR18028379          SRX14182503   \n",
       "2  SRX14182503_SRR18028380  SAMN25948860   SRR18028380          SRX14182503   \n",
       "3  SRX14182503_SRR18028381  SAMN25948860   SRR18028381          SRX14182503   \n",
       "4  SRX14182503_SRR18028382  SAMN25948860   SRR18028382          SRX14182503   \n",
       "\n",
       "  sample_accession secondary_sample_accession study_accession  \\\n",
       "0     SAMN25948860                SRS12006093     PRJNA807049   \n",
       "1     SAMN25948860                SRS12006093     PRJNA807049   \n",
       "2     SAMN25948860                SRS12006093     PRJNA807049   \n",
       "3     SAMN25948860                SRS12006093     PRJNA807049   \n",
       "4     SAMN25948860                SRS12006093     PRJNA807049   \n",
       "\n",
       "  secondary_study_accession  parent_study submission_accession  ...  \\\n",
       "0                 SRP359840           NaN           SRA1372903  ...   \n",
       "1                 SRP359840           NaN           SRA1372903  ...   \n",
       "2                 SRP359840           NaN           SRA1372903  ...   \n",
       "3                 SRP359840           NaN           SRA1372903  ...   \n",
       "4                 SRP359840           NaN           SRA1372903  ...   \n",
       "\n",
       "                          fastq_md5 fastq_bytes  \\\n",
       "0  6ea049161c30f920a168a4ec7231e4b4  2139539305   \n",
       "1  cee2592736a279539a109b333b3f109b  1981957689   \n",
       "2  ba9622076695ff8e67bbf93c31a8f8f8  1989248167   \n",
       "3  73f50d2c8af5757063c967e9124addba  1970104845   \n",
       "4  5d42d1f4fcbb3a0c6618d1809725fd00  2099757277   \n",
       "\n",
       "                                           fastq_ftp  \\\n",
       "0  ftp.sra.ebi.ac.uk/vol1/fastq/SRR180/078/SRR180...   \n",
       "1  ftp.sra.ebi.ac.uk/vol1/fastq/SRR180/079/SRR180...   \n",
       "2  ftp.sra.ebi.ac.uk/vol1/fastq/SRR180/080/SRR180...   \n",
       "3  ftp.sra.ebi.ac.uk/vol1/fastq/SRR180/081/SRR180...   \n",
       "4  ftp.sra.ebi.ac.uk/vol1/fastq/SRR180/082/SRR180...   \n",
       "\n",
       "                                        fastq_galaxy  \\\n",
       "0  ftp.sra.ebi.ac.uk/vol1/fastq/SRR180/078/SRR180...   \n",
       "1  ftp.sra.ebi.ac.uk/vol1/fastq/SRR180/079/SRR180...   \n",
       "2  ftp.sra.ebi.ac.uk/vol1/fastq/SRR180/080/SRR180...   \n",
       "3  ftp.sra.ebi.ac.uk/vol1/fastq/SRR180/081/SRR180...   \n",
       "4  ftp.sra.ebi.ac.uk/vol1/fastq/SRR180/082/SRR180...   \n",
       "\n",
       "                                        fastq_aspera  \\\n",
       "0  fasp.sra.ebi.ac.uk:/vol1/fastq/SRR180/078/SRR1...   \n",
       "1  fasp.sra.ebi.ac.uk:/vol1/fastq/SRR180/079/SRR1...   \n",
       "2  fasp.sra.ebi.ac.uk:/vol1/fastq/SRR180/080/SRR1...   \n",
       "3  fasp.sra.ebi.ac.uk:/vol1/fastq/SRR180/081/SRR1...   \n",
       "4  fasp.sra.ebi.ac.uk:/vol1/fastq/SRR180/082/SRR1...   \n",
       "\n",
       "                                             fastq_1 fastq_2  \\\n",
       "0  ftp.sra.ebi.ac.uk/vol1/fastq/SRR180/078/SRR180...     NaN   \n",
       "1  ftp.sra.ebi.ac.uk/vol1/fastq/SRR180/079/SRR180...     NaN   \n",
       "2  ftp.sra.ebi.ac.uk/vol1/fastq/SRR180/080/SRR180...     NaN   \n",
       "3  ftp.sra.ebi.ac.uk/vol1/fastq/SRR180/081/SRR180...     NaN   \n",
       "4  ftp.sra.ebi.ac.uk/vol1/fastq/SRR180/082/SRR180...     NaN   \n",
       "\n",
       "                              md5_1  md5_2 single_end  \n",
       "0  6ea049161c30f920a168a4ec7231e4b4    NaN       True  \n",
       "1  cee2592736a279539a109b333b3f109b    NaN       True  \n",
       "2  ba9622076695ff8e67bbf93c31a8f8f8    NaN       True  \n",
       "3  73f50d2c8af5757063c967e9124addba    NaN       True  \n",
       "4  5d42d1f4fcbb3a0c6618d1809725fd00    NaN       True  \n",
       "\n",
       "[5 rows x 40 columns]"
      ]
     },
     "execution_count": 3,
     "metadata": {},
     "output_type": "execute_result"
    }
   ],
   "source": [
    "meta = pd.read_csv('../data/OneK1K/OneK1K_SRR_metadata.csv', sep='\\t')\n",
    "meta.head()"
   ]
  },
  {
   "cell_type": "code",
   "execution_count": 30,
   "id": "fc9d851e-4108-4594-a8a1-a8b7a371c142",
   "metadata": {},
   "outputs": [
    {
     "data": {
      "text/plain": [
       "Index(['id', 'accession', 'run_accession', 'experiment_accession',\n",
       "       'sample_accession', 'secondary_sample_accession', 'study_accession',\n",
       "       'secondary_study_accession', 'parent_study', 'submission_accession',\n",
       "       'run_alias', 'experiment_alias', 'sample_alias', 'study_alias',\n",
       "       'library_layout', 'library_selection', 'library_source',\n",
       "       'library_strategy', 'library_name', 'instrument_model',\n",
       "       'instrument_platform', 'base_count', 'read_count', 'tax_id',\n",
       "       'scientific_name', 'sample_title', 'experiment_title', 'study_title',\n",
       "       'description', 'sample_description', 'fastq_md5', 'fastq_bytes',\n",
       "       'fastq_ftp', 'fastq_galaxy', 'fastq_aspera', 'fastq_1', 'fastq_2',\n",
       "       'md5_1', 'md5_2', 'single_end'],\n",
       "      dtype='object')"
      ]
     },
     "execution_count": 30,
     "metadata": {},
     "output_type": "execute_result"
    }
   ],
   "source": [
    "meta.columns"
   ]
  },
  {
   "cell_type": "code",
   "execution_count": 35,
   "id": "bceee25e-9f6f-4657-b440-1fd0770525c0",
   "metadata": {},
   "outputs": [
    {
     "data": {
      "text/plain": [
       "0        PMBCs for 12 individuals in pool 1\n",
       "1        PMBCs for 12 individuals in pool 1\n",
       "2        PMBCs for 12 individuals in pool 1\n",
       "3        PMBCs for 12 individuals in pool 1\n",
       "4        PMBCs for 12 individuals in pool 1\n",
       "                       ...                 \n",
       "1495    PMBCs for 15 individuals in pool 65\n",
       "1496    PMBCs for 15 individuals in pool 65\n",
       "1497    PMBCs for 15 individuals in pool 65\n",
       "1498    PMBCs for 15 individuals in pool 65\n",
       "1499    PMBCs for 15 individuals in pool 65\n",
       "Name: sample_title, Length: 1500, dtype: object"
      ]
     },
     "execution_count": 35,
     "metadata": {},
     "output_type": "execute_result"
    }
   ],
   "source": [
    "meta['sample_title']"
   ]
  },
  {
   "cell_type": "code",
   "execution_count": 4,
   "id": "ee360985-5fb9-4d1c-b53c-26f35f6b2d92",
   "metadata": {},
   "outputs": [
    {
     "data": {
      "text/plain": [
       "75"
      ]
     },
     "execution_count": 4,
     "metadata": {},
     "output_type": "execute_result"
    }
   ],
   "source": [
    "sample_names = set(meta['sample_accession'].unique())\n",
    "len(sample_names)"
   ]
  },
  {
   "cell_type": "code",
   "execution_count": 6,
   "id": "15de35cd-161b-4586-aaac-44e1b88baed7",
   "metadata": {},
   "outputs": [
    {
     "data": {
      "text/plain": [
       "75"
      ]
     },
     "execution_count": 6,
     "metadata": {},
     "output_type": "execute_result"
    }
   ],
   "source": [
    "COUNTS_ROOT = '/gpfs/space/projects/genomic_references/scRNAseq_counts/kallisto/OneK1K/'\n",
    "sample_names_from_counts = set(map(lambda x: x.split('.')[0], os.listdir(COUNTS_ROOT)))\n",
    "len(sample_names_from_counts)"
   ]
  },
  {
   "cell_type": "code",
   "execution_count": 29,
   "id": "cc8145cc-8043-45dd-9384-ea791064c1af",
   "metadata": {},
   "outputs": [
    {
     "data": {
      "text/plain": [
       "75"
      ]
     },
     "execution_count": 29,
     "metadata": {},
     "output_type": "execute_result"
    }
   ],
   "source": [
    "len(sample_names & sample_names_from_counts)"
   ]
  },
  {
   "cell_type": "code",
   "execution_count": 5,
   "id": "5ba0df9a-80aa-4ae9-ad2b-ce3115f44859",
   "metadata": {},
   "outputs": [],
   "source": [
    "sn2pool = {k: v.split(' ')[-1] for k,v in list((meta.groupby(['sample_accession', 'sample_title']).groups.keys()))}"
   ]
  },
  {
   "cell_type": "code",
   "execution_count": 6,
   "id": "f8d6cdd1-70db-445b-867e-f2307fce78d5",
   "metadata": {},
   "outputs": [
    {
     "data": {
      "text/plain": [
       "75"
      ]
     },
     "execution_count": 6,
     "metadata": {},
     "output_type": "execute_result"
    }
   ],
   "source": [
    "len(sn2pool)"
   ]
  },
  {
   "cell_type": "code",
   "execution_count": 9,
   "id": "b3e5b964-56cb-4ab2-a4d5-872de661401a",
   "metadata": {
    "collapsed": true,
    "jupyter": {
     "outputs_hidden": true
    },
    "tags": []
   },
   "outputs": [
    {
     "name": "stdout",
     "output_type": "stream",
     "text": [
      "True\n",
      "True\n",
      "True\n",
      "True\n",
      "True\n",
      "True\n",
      "True\n",
      "True\n",
      "True\n",
      "True\n",
      "True\n",
      "True\n",
      "True\n",
      "True\n",
      "True\n",
      "True\n",
      "True\n",
      "True\n",
      "True\n",
      "True\n",
      "True\n",
      "True\n",
      "True\n",
      "True\n",
      "True\n",
      "True\n",
      "True\n",
      "True\n",
      "True\n",
      "True\n",
      "True\n",
      "True\n",
      "True\n",
      "True\n",
      "True\n",
      "True\n",
      "True\n",
      "True\n",
      "True\n",
      "True\n",
      "True\n",
      "True\n",
      "True\n",
      "True\n",
      "True\n",
      "True\n",
      "True\n",
      "True\n",
      "True\n",
      "True\n",
      "True\n",
      "True\n",
      "True\n",
      "True\n",
      "True\n",
      "True\n",
      "True\n",
      "True\n",
      "True\n",
      "True\n",
      "True\n",
      "True\n",
      "True\n",
      "True\n",
      "True\n",
      "True\n",
      "True\n",
      "True\n",
      "True\n",
      "True\n",
      "True\n",
      "True\n",
      "True\n",
      "True\n",
      "True\n"
     ]
    }
   ],
   "source": [
    "for sn in sample_names:\n",
    "    adata_sample = sc.read(os.path.join(COUNTS_ROOT, sn + '.h5ad'))\n",
    "    cell_type_df = pd.DataFrame(adata.obs[adata.obs['pool_number'] == sn2pool[sn]]['cell_type'])\n",
    "    cell_type_df['barcode'] = cell_type_df.index.to_series()\n",
    "    cell_type_df['barcode'] = cell_type_df['barcode'].apply(lambda x: x.split('-')[0])\n",
    "    cell_type_df = cell_type_df.set_index('barcode')\n",
    "    \n",
    "    adata_sample.obs['cell_type'] = cell_type_df['cell_type'].reindex(adata_sample.obs.index)\n",
    "    \n",
    "    print(len(adata_sample.obs[adata_sample.obs['cell_type'].notnull()]) == len(cell_type_df))\n",
    "    \n",
    "    X = adata_sample.X[adata_sample.obs.index.get_indexer(adata_sample.obs[adata_sample.obs['cell_type'].notnull()].index)]\n",
    "    \n",
    "    adata_sample_new = ad.AnnData(X, obs=adata_sample.obs.dropna(), var=adata_sample.var)\n",
    "    \n",
    "    adata_sample_new.write(f'../data/OneK1K/counts/{sn}.h5ad')\n",
    "   "
   ]
  },
  {
   "cell_type": "markdown",
   "id": "3bf8e810-95f0-4c45-9f93-abc55edc6bb8",
   "metadata": {},
   "source": [
    "## Merge all samples in one adata"
   ]
  },
  {
   "cell_type": "code",
   "execution_count": null,
   "id": "b70b3da7-8775-40ae-b3da-84e0bfbcb863",
   "metadata": {},
   "outputs": [],
   "source": []
  },
  {
   "cell_type": "code",
   "execution_count": 6,
   "id": "bf4e25aa-7bb4-4282-94ac-bdd748648660",
   "metadata": {},
   "outputs": [],
   "source": [
    "d = {}\n",
    "for sn in sample_names:\n",
    "    adata_sample = sc.read(f'../data/OneK1K/counts/{sn}.h5ad')\n",
    "    adata_sample.obs = adata_sample.obs.rename(index=dict(zip(adata_sample.obs.index, \n",
    "                                                              list(map(lambda x: x + '-' + sn2pool[sn], adata_sample.obs.index)))))\n",
    "    d[sn] = adata_sample\n",
    "adata_onek1k= ad.concat(d, label=\"sample\")"
   ]
  },
  {
   "cell_type": "code",
   "execution_count": 9,
   "id": "09ea3f28-e809-4124-873f-038ad49416da",
   "metadata": {},
   "outputs": [],
   "source": [
    "del d"
   ]
  },
  {
   "cell_type": "code",
   "execution_count": 10,
   "id": "175ec9c2-aaef-4dd5-8f82-72289df9236b",
   "metadata": {},
   "outputs": [
    {
     "data": {
      "text/plain": [
       "1248980"
      ]
     },
     "execution_count": 10,
     "metadata": {},
     "output_type": "execute_result"
    }
   ],
   "source": [
    "len(adata_onek1k1)"
   ]
  },
  {
   "cell_type": "code",
   "execution_count": 19,
   "id": "8e8f3c6d-d2f1-47f5-848b-a2688b892144",
   "metadata": {},
   "outputs": [
    {
     "data": {
      "text/html": [
       "<div>\n",
       "<style scoped>\n",
       "    .dataframe tbody tr th:only-of-type {\n",
       "        vertical-align: middle;\n",
       "    }\n",
       "\n",
       "    .dataframe tbody tr th {\n",
       "        vertical-align: top;\n",
       "    }\n",
       "\n",
       "    .dataframe thead th {\n",
       "        text-align: right;\n",
       "    }\n",
       "</style>\n",
       "<table border=\"1\" class=\"dataframe\">\n",
       "  <thead>\n",
       "    <tr style=\"text-align: right;\">\n",
       "      <th></th>\n",
       "      <th>cell_type</th>\n",
       "      <th>sample</th>\n",
       "      <th>cell_type_id</th>\n",
       "    </tr>\n",
       "    <tr>\n",
       "      <th>barcode</th>\n",
       "      <th></th>\n",
       "      <th></th>\n",
       "      <th></th>\n",
       "    </tr>\n",
       "  </thead>\n",
       "  <tbody>\n",
       "    <tr>\n",
       "      <th>AAACCTGAGAAGATTC-65</th>\n",
       "      <td>central memory CD4-positive, alpha-beta T cell</td>\n",
       "      <td>SAMN25948905</td>\n",
       "      <td>0</td>\n",
       "    </tr>\n",
       "    <tr>\n",
       "      <th>AAACCTGAGATACACA-65</th>\n",
       "      <td>effector memory CD8-positive, alpha-beta T cell</td>\n",
       "      <td>SAMN25948905</td>\n",
       "      <td>1</td>\n",
       "    </tr>\n",
       "    <tr>\n",
       "      <th>AAACCTGAGGGAACGG-65</th>\n",
       "      <td>natural killer cell</td>\n",
       "      <td>SAMN25948905</td>\n",
       "      <td>2</td>\n",
       "    </tr>\n",
       "    <tr>\n",
       "      <th>AAACCTGAGGTACTCT-65</th>\n",
       "      <td>effector memory CD8-positive, alpha-beta T cell</td>\n",
       "      <td>SAMN25948905</td>\n",
       "      <td>1</td>\n",
       "    </tr>\n",
       "    <tr>\n",
       "      <th>AAACCTGAGTTATCGC-65</th>\n",
       "      <td>naive thymus-derived CD4-positive, alpha-beta ...</td>\n",
       "      <td>SAMN25948905</td>\n",
       "      <td>3</td>\n",
       "    </tr>\n",
       "  </tbody>\n",
       "</table>\n",
       "</div>"
      ],
      "text/plain": [
       "                                                             cell_type  \\\n",
       "barcode                                                                  \n",
       "AAACCTGAGAAGATTC-65     central memory CD4-positive, alpha-beta T cell   \n",
       "AAACCTGAGATACACA-65    effector memory CD8-positive, alpha-beta T cell   \n",
       "AAACCTGAGGGAACGG-65                                natural killer cell   \n",
       "AAACCTGAGGTACTCT-65    effector memory CD8-positive, alpha-beta T cell   \n",
       "AAACCTGAGTTATCGC-65  naive thymus-derived CD4-positive, alpha-beta ...   \n",
       "\n",
       "                           sample cell_type_id  \n",
       "barcode                                         \n",
       "AAACCTGAGAAGATTC-65  SAMN25948905            0  \n",
       "AAACCTGAGATACACA-65  SAMN25948905            1  \n",
       "AAACCTGAGGGAACGG-65  SAMN25948905            2  \n",
       "AAACCTGAGGTACTCT-65  SAMN25948905            1  \n",
       "AAACCTGAGTTATCGC-65  SAMN25948905            3  "
      ]
     },
     "execution_count": 19,
     "metadata": {},
     "output_type": "execute_result"
    }
   ],
   "source": [
    "adata_onek1k1.obs.head(5)"
   ]
  },
  {
   "cell_type": "code",
   "execution_count": 9,
   "id": "6f276005-6f5b-4b67-a145-4a9f113cb506",
   "metadata": {},
   "outputs": [],
   "source": [
    "ct2id =  {ct:idd for idd, ct in enumerate(adata_onek1k.obs['cell_type'].unique())}\n",
    "adata_onek1k.obs['cell_type_id'] = adata_onek1k.obs['cell_type'].apply(lambda x: ct2id[x])"
   ]
  },
  {
   "cell_type": "markdown",
   "id": "59e44cec-8f72-49e2-a0d0-ce0f50e57d7f",
   "metadata": {
    "jp-MarkdownHeadingCollapsed": true,
    "tags": []
   },
   "source": [
    "# Perez data"
   ]
  },
  {
   "cell_type": "code",
   "execution_count": 3,
   "id": "62eab1d1-dd4c-4e3b-b744-46d232983d2e",
   "metadata": {},
   "outputs": [],
   "source": [
    "adata = sc.read_h5ad('/gpfs/space/home/dzvenymy/scarches/data/Perez/local.h5ad', backed='r')"
   ]
  },
  {
   "cell_type": "code",
   "execution_count": 19,
   "id": "b6407866-2d3a-4fe3-b045-3f6fa9c7c827",
   "metadata": {},
   "outputs": [
    {
     "data": {
      "text/plain": [
       "1263676"
      ]
     },
     "execution_count": 19,
     "metadata": {},
     "output_type": "execute_result"
    }
   ],
   "source": [
    "len(adata)"
   ]
  },
  {
   "cell_type": "code",
   "execution_count": 4,
   "id": "a982ec59-2bd0-41dc-b76d-d1f09dc27dc5",
   "metadata": {},
   "outputs": [
    {
     "data": {
      "text/html": [
       "<div>\n",
       "<style scoped>\n",
       "    .dataframe tbody tr th:only-of-type {\n",
       "        vertical-align: middle;\n",
       "    }\n",
       "\n",
       "    .dataframe tbody tr th {\n",
       "        vertical-align: top;\n",
       "    }\n",
       "\n",
       "    .dataframe thead th {\n",
       "        text-align: right;\n",
       "    }\n",
       "</style>\n",
       "<table border=\"1\" class=\"dataframe\">\n",
       "  <thead>\n",
       "    <tr style=\"text-align: right;\">\n",
       "      <th></th>\n",
       "      <th>library_uuid</th>\n",
       "      <th>assay_ontology_term_id</th>\n",
       "      <th>mapped_reference_annotation</th>\n",
       "      <th>is_primary_data</th>\n",
       "      <th>cell_type_ontology_term_id</th>\n",
       "      <th>author_cell_type</th>\n",
       "      <th>cell_state</th>\n",
       "      <th>sample_uuid</th>\n",
       "      <th>tissue_ontology_term_id</th>\n",
       "      <th>development_stage_ontology_term_id</th>\n",
       "      <th>...</th>\n",
       "      <th>ct_cov</th>\n",
       "      <th>ind_cov</th>\n",
       "      <th>cell_type</th>\n",
       "      <th>assay</th>\n",
       "      <th>disease</th>\n",
       "      <th>organism</th>\n",
       "      <th>sex</th>\n",
       "      <th>tissue</th>\n",
       "      <th>self_reported_ethnicity</th>\n",
       "      <th>development_stage</th>\n",
       "    </tr>\n",
       "    <tr>\n",
       "      <th>index</th>\n",
       "      <th></th>\n",
       "      <th></th>\n",
       "      <th></th>\n",
       "      <th></th>\n",
       "      <th></th>\n",
       "      <th></th>\n",
       "      <th></th>\n",
       "      <th></th>\n",
       "      <th></th>\n",
       "      <th></th>\n",
       "      <th></th>\n",
       "      <th></th>\n",
       "      <th></th>\n",
       "      <th></th>\n",
       "      <th></th>\n",
       "      <th></th>\n",
       "      <th></th>\n",
       "      <th></th>\n",
       "      <th></th>\n",
       "      <th></th>\n",
       "      <th></th>\n",
       "    </tr>\n",
       "  </thead>\n",
       "  <tbody>\n",
       "    <tr>\n",
       "      <th>CAAGGCCAGTATCGAA-1-1-0-0-0-0-0-0-0-0-0-0-0-0-0-0-0-0-0-0-0-0-0-0-0-0-0-0-0-0-0-0-0-0-0-0-0-0-0-0-0-0-0-0-0-0-0-0-0-0-0-0-0-0-0-0-0-0-0-0-0-0-0-0-0-0-0-0-1-0-0-0-0-0</th>\n",
       "      <td>3332f018-936e-4c4c-9105-99d9503db5a3</td>\n",
       "      <td>EFO:0009899</td>\n",
       "      <td>GENCODE 19</td>\n",
       "      <td>True</td>\n",
       "      <td>CL:0000624</td>\n",
       "      <td>T4</td>\n",
       "      <td>na</td>\n",
       "      <td>0a1148dc-356f-4dc4-9c32-bf0823257d93</td>\n",
       "      <td>UBERON:0000178</td>\n",
       "      <td>HsapDv:0000122</td>\n",
       "      <td>...</td>\n",
       "      <td>T4_naive</td>\n",
       "      <td>HC-546</td>\n",
       "      <td>CD4-positive, alpha-beta T cell</td>\n",
       "      <td>10x 3' v2</td>\n",
       "      <td>normal</td>\n",
       "      <td>Homo sapiens</td>\n",
       "      <td>female</td>\n",
       "      <td>blood</td>\n",
       "      <td>Asian</td>\n",
       "      <td>28-year-old human stage</td>\n",
       "    </tr>\n",
       "    <tr>\n",
       "      <th>CTAACTTCAATGAATG-1-1-0-0-0-0-0-0-0-0-0-0-0-0-0-0-0-0-0-0-0-0-0-0-0-0-0-0-0-0-0-0-0-0-0-0-0-0-0-0-0-0-0-0-0-0-0-0-0-0-0-0-0-0-0-0-0-0-0-0-0-0-0-0-0-0-0-0-0-1-0-0-0-0-0</th>\n",
       "      <td>70a004b7-4a17-4702-8910-4557aa0c4279</td>\n",
       "      <td>EFO:0009899</td>\n",
       "      <td>GENCODE 19</td>\n",
       "      <td>True</td>\n",
       "      <td>CL:0000860</td>\n",
       "      <td>cM</td>\n",
       "      <td>na</td>\n",
       "      <td>577bce84-8d37-4851-9fb4-53f9467699ba</td>\n",
       "      <td>UBERON:0000178</td>\n",
       "      <td>HsapDv:0000139</td>\n",
       "      <td>...</td>\n",
       "      <td>NaN</td>\n",
       "      <td>1132_1132</td>\n",
       "      <td>classical monocyte</td>\n",
       "      <td>10x 3' v2</td>\n",
       "      <td>systemic lupus erythematosus</td>\n",
       "      <td>Homo sapiens</td>\n",
       "      <td>female</td>\n",
       "      <td>blood</td>\n",
       "      <td>European</td>\n",
       "      <td>45-year-old human stage</td>\n",
       "    </tr>\n",
       "    <tr>\n",
       "      <th>AAGTCTGGTCTACCTC-1-1-0-0-0-0-0-0-0-0-0-0-0-0-0-0-0-0-0-0-0-0-0-0-0-0-0-0-0-0</th>\n",
       "      <td>152e2bfd-e9ea-4d70-a999-6f37fb3fb96c</td>\n",
       "      <td>EFO:0009899</td>\n",
       "      <td>GENCODE 19</td>\n",
       "      <td>True</td>\n",
       "      <td>CL:0000860</td>\n",
       "      <td>cM</td>\n",
       "      <td>na</td>\n",
       "      <td>0f3a21f5-e7b9-4139-93fb-5407dbfde4fc</td>\n",
       "      <td>UBERON:0000178</td>\n",
       "      <td>HsapDv:0000128</td>\n",
       "      <td>...</td>\n",
       "      <td>NaN</td>\n",
       "      <td>FLARE006</td>\n",
       "      <td>classical monocyte</td>\n",
       "      <td>10x 3' v2</td>\n",
       "      <td>systemic lupus erythematosus</td>\n",
       "      <td>Homo sapiens</td>\n",
       "      <td>female</td>\n",
       "      <td>blood</td>\n",
       "      <td>European</td>\n",
       "      <td>34-year-old human stage</td>\n",
       "    </tr>\n",
       "    <tr>\n",
       "      <th>GGCTCGATCGTTGACA-1-1-0-0-0-0-0-0-0-0-0-0-0-0-0-0-0-0-0-0-0-0-0-0-0-0-0-0-0-0-0-0-0-0-0-0-0-0-0-0-0-0-0-0-0-0-0-0-0-0-0-0-0-0-0-0-0-0-0-0-0-0-0-0-0-0-0-0-0-0-0-0-0-0-0-0-0-0-0-0-0-1-0-0-0-0-0-0-0-0-0-0</th>\n",
       "      <td>c2641f62-eb23-4dad-9c22-b52e72b79df2</td>\n",
       "      <td>EFO:0009899</td>\n",
       "      <td>GENCODE 19</td>\n",
       "      <td>True</td>\n",
       "      <td>CL:0000236</td>\n",
       "      <td>B</td>\n",
       "      <td>na</td>\n",
       "      <td>5e0ed28c-a75a-4ecd-a0c7-49e71264690b</td>\n",
       "      <td>UBERON:0000178</td>\n",
       "      <td>HsapDv:0000165</td>\n",
       "      <td>...</td>\n",
       "      <td>B_naive</td>\n",
       "      <td>1110_1110</td>\n",
       "      <td>B cell</td>\n",
       "      <td>10x 3' v2</td>\n",
       "      <td>systemic lupus erythematosus</td>\n",
       "      <td>Homo sapiens</td>\n",
       "      <td>female</td>\n",
       "      <td>blood</td>\n",
       "      <td>European</td>\n",
       "      <td>71-year-old human stage</td>\n",
       "    </tr>\n",
       "    <tr>\n",
       "      <th>ACACCGGCACACAGAG-1-1-0-0-0-0-0-0-0-0-0-0-0-0-0-0-0-0-0-0-0-0-0-0-0-0-0-0-0-0-0-0-0-0-0-0-0-0-0-0-0-0-0-0-1-0-0-0-0-0-0-0-0-0-0-0-0-0-0-0-0-0-0-0-0</th>\n",
       "      <td>222b358b-71e7-4b0f-9f9b-47b4c67aaa27</td>\n",
       "      <td>EFO:0009899</td>\n",
       "      <td>GENCODE 19</td>\n",
       "      <td>True</td>\n",
       "      <td>CL:0000624</td>\n",
       "      <td>T4</td>\n",
       "      <td>na</td>\n",
       "      <td>982d60b4-5677-4e2d-8b58-79503863710d</td>\n",
       "      <td>UBERON:0000178</td>\n",
       "      <td>HsapDv:0000122</td>\n",
       "      <td>...</td>\n",
       "      <td>NaN</td>\n",
       "      <td>1479_1479</td>\n",
       "      <td>CD4-positive, alpha-beta T cell</td>\n",
       "      <td>10x 3' v2</td>\n",
       "      <td>systemic lupus erythematosus</td>\n",
       "      <td>Homo sapiens</td>\n",
       "      <td>female</td>\n",
       "      <td>blood</td>\n",
       "      <td>Asian</td>\n",
       "      <td>28-year-old human stage</td>\n",
       "    </tr>\n",
       "  </tbody>\n",
       "</table>\n",
       "<p>5 rows × 30 columns</p>\n",
       "</div>"
      ],
      "text/plain": [
       "                                                                            library_uuid  \\\n",
       "index                                                                                      \n",
       "CAAGGCCAGTATCGAA-1-1-0-0-0-0-0-0-0-0-0-0-0-0-0-...  3332f018-936e-4c4c-9105-99d9503db5a3   \n",
       "CTAACTTCAATGAATG-1-1-0-0-0-0-0-0-0-0-0-0-0-0-0-...  70a004b7-4a17-4702-8910-4557aa0c4279   \n",
       "AAGTCTGGTCTACCTC-1-1-0-0-0-0-0-0-0-0-0-0-0-0-0-...  152e2bfd-e9ea-4d70-a999-6f37fb3fb96c   \n",
       "GGCTCGATCGTTGACA-1-1-0-0-0-0-0-0-0-0-0-0-0-0-0-...  c2641f62-eb23-4dad-9c22-b52e72b79df2   \n",
       "ACACCGGCACACAGAG-1-1-0-0-0-0-0-0-0-0-0-0-0-0-0-...  222b358b-71e7-4b0f-9f9b-47b4c67aaa27   \n",
       "\n",
       "                                                   assay_ontology_term_id  \\\n",
       "index                                                                       \n",
       "CAAGGCCAGTATCGAA-1-1-0-0-0-0-0-0-0-0-0-0-0-0-0-...            EFO:0009899   \n",
       "CTAACTTCAATGAATG-1-1-0-0-0-0-0-0-0-0-0-0-0-0-0-...            EFO:0009899   \n",
       "AAGTCTGGTCTACCTC-1-1-0-0-0-0-0-0-0-0-0-0-0-0-0-...            EFO:0009899   \n",
       "GGCTCGATCGTTGACA-1-1-0-0-0-0-0-0-0-0-0-0-0-0-0-...            EFO:0009899   \n",
       "ACACCGGCACACAGAG-1-1-0-0-0-0-0-0-0-0-0-0-0-0-0-...            EFO:0009899   \n",
       "\n",
       "                                                   mapped_reference_annotation  \\\n",
       "index                                                                            \n",
       "CAAGGCCAGTATCGAA-1-1-0-0-0-0-0-0-0-0-0-0-0-0-0-...                  GENCODE 19   \n",
       "CTAACTTCAATGAATG-1-1-0-0-0-0-0-0-0-0-0-0-0-0-0-...                  GENCODE 19   \n",
       "AAGTCTGGTCTACCTC-1-1-0-0-0-0-0-0-0-0-0-0-0-0-0-...                  GENCODE 19   \n",
       "GGCTCGATCGTTGACA-1-1-0-0-0-0-0-0-0-0-0-0-0-0-0-...                  GENCODE 19   \n",
       "ACACCGGCACACAGAG-1-1-0-0-0-0-0-0-0-0-0-0-0-0-0-...                  GENCODE 19   \n",
       "\n",
       "                                                    is_primary_data  \\\n",
       "index                                                                 \n",
       "CAAGGCCAGTATCGAA-1-1-0-0-0-0-0-0-0-0-0-0-0-0-0-...             True   \n",
       "CTAACTTCAATGAATG-1-1-0-0-0-0-0-0-0-0-0-0-0-0-0-...             True   \n",
       "AAGTCTGGTCTACCTC-1-1-0-0-0-0-0-0-0-0-0-0-0-0-0-...             True   \n",
       "GGCTCGATCGTTGACA-1-1-0-0-0-0-0-0-0-0-0-0-0-0-0-...             True   \n",
       "ACACCGGCACACAGAG-1-1-0-0-0-0-0-0-0-0-0-0-0-0-0-...             True   \n",
       "\n",
       "                                                   cell_type_ontology_term_id  \\\n",
       "index                                                                           \n",
       "CAAGGCCAGTATCGAA-1-1-0-0-0-0-0-0-0-0-0-0-0-0-0-...                 CL:0000624   \n",
       "CTAACTTCAATGAATG-1-1-0-0-0-0-0-0-0-0-0-0-0-0-0-...                 CL:0000860   \n",
       "AAGTCTGGTCTACCTC-1-1-0-0-0-0-0-0-0-0-0-0-0-0-0-...                 CL:0000860   \n",
       "GGCTCGATCGTTGACA-1-1-0-0-0-0-0-0-0-0-0-0-0-0-0-...                 CL:0000236   \n",
       "ACACCGGCACACAGAG-1-1-0-0-0-0-0-0-0-0-0-0-0-0-0-...                 CL:0000624   \n",
       "\n",
       "                                                   author_cell_type  \\\n",
       "index                                                                 \n",
       "CAAGGCCAGTATCGAA-1-1-0-0-0-0-0-0-0-0-0-0-0-0-0-...               T4   \n",
       "CTAACTTCAATGAATG-1-1-0-0-0-0-0-0-0-0-0-0-0-0-0-...               cM   \n",
       "AAGTCTGGTCTACCTC-1-1-0-0-0-0-0-0-0-0-0-0-0-0-0-...               cM   \n",
       "GGCTCGATCGTTGACA-1-1-0-0-0-0-0-0-0-0-0-0-0-0-0-...                B   \n",
       "ACACCGGCACACAGAG-1-1-0-0-0-0-0-0-0-0-0-0-0-0-0-...               T4   \n",
       "\n",
       "                                                   cell_state  \\\n",
       "index                                                           \n",
       "CAAGGCCAGTATCGAA-1-1-0-0-0-0-0-0-0-0-0-0-0-0-0-...         na   \n",
       "CTAACTTCAATGAATG-1-1-0-0-0-0-0-0-0-0-0-0-0-0-0-...         na   \n",
       "AAGTCTGGTCTACCTC-1-1-0-0-0-0-0-0-0-0-0-0-0-0-0-...         na   \n",
       "GGCTCGATCGTTGACA-1-1-0-0-0-0-0-0-0-0-0-0-0-0-0-...         na   \n",
       "ACACCGGCACACAGAG-1-1-0-0-0-0-0-0-0-0-0-0-0-0-0-...         na   \n",
       "\n",
       "                                                                             sample_uuid  \\\n",
       "index                                                                                      \n",
       "CAAGGCCAGTATCGAA-1-1-0-0-0-0-0-0-0-0-0-0-0-0-0-...  0a1148dc-356f-4dc4-9c32-bf0823257d93   \n",
       "CTAACTTCAATGAATG-1-1-0-0-0-0-0-0-0-0-0-0-0-0-0-...  577bce84-8d37-4851-9fb4-53f9467699ba   \n",
       "AAGTCTGGTCTACCTC-1-1-0-0-0-0-0-0-0-0-0-0-0-0-0-...  0f3a21f5-e7b9-4139-93fb-5407dbfde4fc   \n",
       "GGCTCGATCGTTGACA-1-1-0-0-0-0-0-0-0-0-0-0-0-0-0-...  5e0ed28c-a75a-4ecd-a0c7-49e71264690b   \n",
       "ACACCGGCACACAGAG-1-1-0-0-0-0-0-0-0-0-0-0-0-0-0-...  982d60b4-5677-4e2d-8b58-79503863710d   \n",
       "\n",
       "                                                   tissue_ontology_term_id  \\\n",
       "index                                                                        \n",
       "CAAGGCCAGTATCGAA-1-1-0-0-0-0-0-0-0-0-0-0-0-0-0-...          UBERON:0000178   \n",
       "CTAACTTCAATGAATG-1-1-0-0-0-0-0-0-0-0-0-0-0-0-0-...          UBERON:0000178   \n",
       "AAGTCTGGTCTACCTC-1-1-0-0-0-0-0-0-0-0-0-0-0-0-0-...          UBERON:0000178   \n",
       "GGCTCGATCGTTGACA-1-1-0-0-0-0-0-0-0-0-0-0-0-0-0-...          UBERON:0000178   \n",
       "ACACCGGCACACAGAG-1-1-0-0-0-0-0-0-0-0-0-0-0-0-0-...          UBERON:0000178   \n",
       "\n",
       "                                                   development_stage_ontology_term_id  \\\n",
       "index                                                                                   \n",
       "CAAGGCCAGTATCGAA-1-1-0-0-0-0-0-0-0-0-0-0-0-0-0-...                     HsapDv:0000122   \n",
       "CTAACTTCAATGAATG-1-1-0-0-0-0-0-0-0-0-0-0-0-0-0-...                     HsapDv:0000139   \n",
       "AAGTCTGGTCTACCTC-1-1-0-0-0-0-0-0-0-0-0-0-0-0-0-...                     HsapDv:0000128   \n",
       "GGCTCGATCGTTGACA-1-1-0-0-0-0-0-0-0-0-0-0-0-0-0-...                     HsapDv:0000165   \n",
       "ACACCGGCACACAGAG-1-1-0-0-0-0-0-0-0-0-0-0-0-0-0-...                     HsapDv:0000122   \n",
       "\n",
       "                                                    ...    ct_cov    ind_cov  \\\n",
       "index                                               ...                        \n",
       "CAAGGCCAGTATCGAA-1-1-0-0-0-0-0-0-0-0-0-0-0-0-0-...  ...  T4_naive     HC-546   \n",
       "CTAACTTCAATGAATG-1-1-0-0-0-0-0-0-0-0-0-0-0-0-0-...  ...       NaN  1132_1132   \n",
       "AAGTCTGGTCTACCTC-1-1-0-0-0-0-0-0-0-0-0-0-0-0-0-...  ...       NaN   FLARE006   \n",
       "GGCTCGATCGTTGACA-1-1-0-0-0-0-0-0-0-0-0-0-0-0-0-...  ...   B_naive  1110_1110   \n",
       "ACACCGGCACACAGAG-1-1-0-0-0-0-0-0-0-0-0-0-0-0-0-...  ...       NaN  1479_1479   \n",
       "\n",
       "                                                                          cell_type  \\\n",
       "index                                                                                 \n",
       "CAAGGCCAGTATCGAA-1-1-0-0-0-0-0-0-0-0-0-0-0-0-0-...  CD4-positive, alpha-beta T cell   \n",
       "CTAACTTCAATGAATG-1-1-0-0-0-0-0-0-0-0-0-0-0-0-0-...               classical monocyte   \n",
       "AAGTCTGGTCTACCTC-1-1-0-0-0-0-0-0-0-0-0-0-0-0-0-...               classical monocyte   \n",
       "GGCTCGATCGTTGACA-1-1-0-0-0-0-0-0-0-0-0-0-0-0-0-...                           B cell   \n",
       "ACACCGGCACACAGAG-1-1-0-0-0-0-0-0-0-0-0-0-0-0-0-...  CD4-positive, alpha-beta T cell   \n",
       "\n",
       "                                                        assay  \\\n",
       "index                                                           \n",
       "CAAGGCCAGTATCGAA-1-1-0-0-0-0-0-0-0-0-0-0-0-0-0-...  10x 3' v2   \n",
       "CTAACTTCAATGAATG-1-1-0-0-0-0-0-0-0-0-0-0-0-0-0-...  10x 3' v2   \n",
       "AAGTCTGGTCTACCTC-1-1-0-0-0-0-0-0-0-0-0-0-0-0-0-...  10x 3' v2   \n",
       "GGCTCGATCGTTGACA-1-1-0-0-0-0-0-0-0-0-0-0-0-0-0-...  10x 3' v2   \n",
       "ACACCGGCACACAGAG-1-1-0-0-0-0-0-0-0-0-0-0-0-0-0-...  10x 3' v2   \n",
       "\n",
       "                                                                         disease  \\\n",
       "index                                                                              \n",
       "CAAGGCCAGTATCGAA-1-1-0-0-0-0-0-0-0-0-0-0-0-0-0-...                        normal   \n",
       "CTAACTTCAATGAATG-1-1-0-0-0-0-0-0-0-0-0-0-0-0-0-...  systemic lupus erythematosus   \n",
       "AAGTCTGGTCTACCTC-1-1-0-0-0-0-0-0-0-0-0-0-0-0-0-...  systemic lupus erythematosus   \n",
       "GGCTCGATCGTTGACA-1-1-0-0-0-0-0-0-0-0-0-0-0-0-0-...  systemic lupus erythematosus   \n",
       "ACACCGGCACACAGAG-1-1-0-0-0-0-0-0-0-0-0-0-0-0-0-...  systemic lupus erythematosus   \n",
       "\n",
       "                                                        organism     sex  \\\n",
       "index                                                                      \n",
       "CAAGGCCAGTATCGAA-1-1-0-0-0-0-0-0-0-0-0-0-0-0-0-...  Homo sapiens  female   \n",
       "CTAACTTCAATGAATG-1-1-0-0-0-0-0-0-0-0-0-0-0-0-0-...  Homo sapiens  female   \n",
       "AAGTCTGGTCTACCTC-1-1-0-0-0-0-0-0-0-0-0-0-0-0-0-...  Homo sapiens  female   \n",
       "GGCTCGATCGTTGACA-1-1-0-0-0-0-0-0-0-0-0-0-0-0-0-...  Homo sapiens  female   \n",
       "ACACCGGCACACAGAG-1-1-0-0-0-0-0-0-0-0-0-0-0-0-0-...  Homo sapiens  female   \n",
       "\n",
       "                                                   tissue  \\\n",
       "index                                                       \n",
       "CAAGGCCAGTATCGAA-1-1-0-0-0-0-0-0-0-0-0-0-0-0-0-...  blood   \n",
       "CTAACTTCAATGAATG-1-1-0-0-0-0-0-0-0-0-0-0-0-0-0-...  blood   \n",
       "AAGTCTGGTCTACCTC-1-1-0-0-0-0-0-0-0-0-0-0-0-0-0-...  blood   \n",
       "GGCTCGATCGTTGACA-1-1-0-0-0-0-0-0-0-0-0-0-0-0-0-...  blood   \n",
       "ACACCGGCACACAGAG-1-1-0-0-0-0-0-0-0-0-0-0-0-0-0-...  blood   \n",
       "\n",
       "                                                   self_reported_ethnicity  \\\n",
       "index                                                                        \n",
       "CAAGGCCAGTATCGAA-1-1-0-0-0-0-0-0-0-0-0-0-0-0-0-...                   Asian   \n",
       "CTAACTTCAATGAATG-1-1-0-0-0-0-0-0-0-0-0-0-0-0-0-...                European   \n",
       "AAGTCTGGTCTACCTC-1-1-0-0-0-0-0-0-0-0-0-0-0-0-0-...                European   \n",
       "GGCTCGATCGTTGACA-1-1-0-0-0-0-0-0-0-0-0-0-0-0-0-...                European   \n",
       "ACACCGGCACACAGAG-1-1-0-0-0-0-0-0-0-0-0-0-0-0-0-...                   Asian   \n",
       "\n",
       "                                                          development_stage  \n",
       "index                                                                        \n",
       "CAAGGCCAGTATCGAA-1-1-0-0-0-0-0-0-0-0-0-0-0-0-0-...  28-year-old human stage  \n",
       "CTAACTTCAATGAATG-1-1-0-0-0-0-0-0-0-0-0-0-0-0-0-...  45-year-old human stage  \n",
       "AAGTCTGGTCTACCTC-1-1-0-0-0-0-0-0-0-0-0-0-0-0-0-...  34-year-old human stage  \n",
       "GGCTCGATCGTTGACA-1-1-0-0-0-0-0-0-0-0-0-0-0-0-0-...  71-year-old human stage  \n",
       "ACACCGGCACACAGAG-1-1-0-0-0-0-0-0-0-0-0-0-0-0-0-...  28-year-old human stage  \n",
       "\n",
       "[5 rows x 30 columns]"
      ]
     },
     "execution_count": 4,
     "metadata": {},
     "output_type": "execute_result"
    }
   ],
   "source": [
    "adata.obs.head(5)"
   ]
  },
  {
   "cell_type": "code",
   "execution_count": 5,
   "id": "11f57902-dd79-4f50-993d-22fdf06cfb96",
   "metadata": {},
   "outputs": [
    {
     "data": {
      "text/plain": [
       "Index(['library_uuid', 'assay_ontology_term_id', 'mapped_reference_annotation',\n",
       "       'is_primary_data', 'cell_type_ontology_term_id', 'author_cell_type',\n",
       "       'cell_state', 'sample_uuid', 'tissue_ontology_term_id',\n",
       "       'development_stage_ontology_term_id', 'disease_state',\n",
       "       'suspension_enriched_cell_types', 'suspension_uuid', 'suspension_type',\n",
       "       'donor_id', 'self_reported_ethnicity_ontology_term_id',\n",
       "       'organism_ontology_term_id', 'disease_ontology_term_id',\n",
       "       'sex_ontology_term_id', 'Processing_Cohort', 'ct_cov', 'ind_cov',\n",
       "       'cell_type', 'assay', 'disease', 'organism', 'sex', 'tissue',\n",
       "       'self_reported_ethnicity', 'development_stage'],\n",
       "      dtype='object')"
      ]
     },
     "execution_count": 5,
     "metadata": {},
     "output_type": "execute_result"
    }
   ],
   "source": [
    "adata.obs.columns"
   ]
  },
  {
   "cell_type": "code",
   "execution_count": 6,
   "id": "2d103f60-99ce-42f2-a5c8-0b8ab15da0af",
   "metadata": {},
   "outputs": [
    {
     "data": {
      "text/plain": [
       "['CD4-positive, alpha-beta T cell', 'classical monocyte', 'B cell', 'CD8-positive, alpha-beta T cell', 'natural killer cell', ..., 'lymphocyte', 'conventional dendritic cell', 'plasmacytoid dendritic cell', 'plasmablast', 'progenitor cell']\n",
       "Length: 11\n",
       "Categories (11, object): ['B cell', 'lymphocyte', 'natural killer cell', 'CD4-positive, alpha-beta T cell', ..., 'non-classical monocyte', 'plasmablast', 'conventional dendritic cell', 'progenitor cell']"
      ]
     },
     "execution_count": 6,
     "metadata": {},
     "output_type": "execute_result"
    }
   ],
   "source": [
    "adata.obs['cell_type'].unique()"
   ]
  },
  {
   "cell_type": "code",
   "execution_count": 18,
   "id": "e659bb3b-c998-4eab-85da-23ac3eaa2819",
   "metadata": {},
   "outputs": [
    {
     "data": {
      "text/plain": [
       "['HC-546', '1132_1132', 'FLARE006', '1110_1110', '1479_1479', ..., 'FLARE005', '1597_1597', 'HC-508', '1493_1493', 'HC-566']\n",
       "Length: 261\n",
       "Categories (261, object): ['1004_1004', '1014_1014', '1015_1015', '1019_1019', ..., 'IGTB1987_IGTB1987', 'IGTB1996_IGTB1996', 'IGTB2007_IGTB2007', 'IGTB2065_IGTB2065']"
      ]
     },
     "execution_count": 18,
     "metadata": {},
     "output_type": "execute_result"
    }
   ],
   "source": [
    "adata.obs['ind_cov'].unique()"
   ]
  },
  {
   "cell_type": "markdown",
   "id": "1984daf6-33f2-4541-a044-22cb32095377",
   "metadata": {},
   "source": [
    "## Get cell types"
   ]
  },
  {
   "cell_type": "code",
   "execution_count": 23,
   "id": "72e2f6aa-87de-40fc-89de-7c72dbcf4b88",
   "metadata": {},
   "outputs": [
    {
     "data": {
      "text/plain": [
       "66"
      ]
     },
     "execution_count": 23,
     "metadata": {},
     "output_type": "execute_result"
    }
   ],
   "source": [
    "COUNTS_ROOT = '/gpfs/space/projects/genomic_references/scRNAseq_counts/kallisto/Perez_2022/'\n",
    "sample_names_from_counts = set(map(lambda x: x.split('.')[0], os.listdir(COUNTS_ROOT)))\n",
    "len(sample_names_from_counts)"
   ]
  },
  {
   "cell_type": "code",
   "execution_count": 24,
   "id": "fd1a3750-56f6-45fa-bf36-0390ad20debc",
   "metadata": {},
   "outputs": [],
   "source": [
    "l = {}\n",
    "for sn in sample_names_from_counts:\n",
    "    adata_sample = sc.read(os.path.join(COUNTS_ROOT, sn + '.h5ad'))\n",
    "    l[sn] = len(adata_sample)"
   ]
  },
  {
   "cell_type": "code",
   "execution_count": 25,
   "id": "468d50c5-7dfb-4910-ad9d-e6c5baa1fb6d",
   "metadata": {},
   "outputs": [
    {
     "data": {
      "text/plain": [
       "35032220"
      ]
     },
     "execution_count": 25,
     "metadata": {},
     "output_type": "execute_result"
    }
   ],
   "source": [
    "sum([v for v in l.values()])"
   ]
  },
  {
   "cell_type": "markdown",
   "id": "42eaf64b-13b5-4f52-8aa3-3fbf86a4b7cb",
   "metadata": {},
   "source": [
    "# Train scpoli model"
   ]
  },
  {
   "cell_type": "code",
   "execution_count": 10,
   "id": "dd51fadb-d8b1-4f80-8c8b-dcc73317abb7",
   "metadata": {},
   "outputs": [],
   "source": [
    "condition_key = 'sample'\n",
    "cell_type_key = ['cell_type_id']"
   ]
  },
  {
   "cell_type": "code",
   "execution_count": 11,
   "id": "577a9a9f-3d6a-440c-94ce-eb05413a0665",
   "metadata": {},
   "outputs": [
    {
     "name": "stdout",
     "output_type": "stream",
     "text": [
      "Embedding dictionary:\n",
      " \tNum conditions: 75\n",
      " \tEmbedding dim: 20\n",
      "Encoder Architecture:\n",
      "\tInput Layer in, out and cond: 61533 128 20\n",
      "\tHidden Layer 1 in/out: 128 128\n",
      "\tHidden Layer 2 in/out: 128 128\n",
      "\tMean/Var Layer in/out: 128 30\n",
      "Decoder Architecture:\n",
      "\tFirst Layer in, out and cond:  30 128 20\n",
      "\tHidden Layer 1 in/out: 128 128\n",
      "\tHidden Layer 2 in/out: 128 128\n",
      "\tOutput Layer in/out:  128 61533 \n",
      "\n"
     ]
    }
   ],
   "source": [
    "scpoli_model = scPoli(\n",
    "    adata=adata_onek1k,\n",
    "    condition_key=condition_key,\n",
    "    cell_type_keys=cell_type_key,\n",
    "    embedding_dim=20,\n",
    "    latent_dim=30,\n",
    "    hidden_layer_sizes=[128,128,128],\n",
    "    dr_rate=0.1,\n",
    "    use_ln=True\n",
    ")"
   ]
  },
  {
   "cell_type": "code",
   "execution_count": null,
   "id": "510dbee6-2531-4499-bdd2-486300a10a52",
   "metadata": {},
   "outputs": [
    {
     "name": "stdout",
     "output_type": "stream",
     "text": [
      " |███████████---------| 56.0%  - val_loss: 3897.4189678255 - val_trvae_loss: 3897.4189678255"
     ]
    }
   ],
   "source": [
    "early_stopping_kwargs = {\n",
    "    \"early_stopping_metric\": \"val_prototype_loss\",\n",
    "    \"mode\": \"min\",\n",
    "    \"threshold\": 0,\n",
    "    \"patience\": 20,\n",
    "    \"reduce_lr\": True,\n",
    "    \"lr_patience\": 13,\n",
    "    \"lr_factor\": 0.1,\n",
    "}\n",
    "\n",
    "scpoli_model.train(\n",
    "    n_epochs=50,\n",
    "    pretraining_epochs=40,\n",
    "    early_stopping_kwargs=early_stopping_kwargs,\n",
    "    eta=5,\n",
    "    batch_size=128 # default is 128\n",
    ")"
   ]
  },
  {
   "cell_type": "code",
   "execution_count": null,
   "id": "3c5fa7d8-a282-47ee-8c1f-705386344e7b",
   "metadata": {},
   "outputs": [],
   "source": [
    "scpoli_model.save('../models/onek1k_only/')"
   ]
  },
  {
   "cell_type": "markdown",
   "id": "1588ac03-276a-4a38-acfe-2b039c9f80f4",
   "metadata": {},
   "source": [
    "# Evaluation"
   ]
  },
  {
   "cell_type": "markdown",
   "id": "0cee266c-4165-493a-8b2b-669b2d1edc75",
   "metadata": {},
   "source": [
    "## Visualize Onek1k only"
   ]
  },
  {
   "cell_type": "code",
   "execution_count": null,
   "id": "23592cc8-6a74-4db2-86c4-761b6ffe7f90",
   "metadata": {},
   "outputs": [],
   "source": [
    "adata_onek1k_frac = sample_adata_for_viz(adata_onek1k1, frac=0.5, rs=42)"
   ]
  },
  {
   "cell_type": "code",
   "execution_count": null,
   "id": "a82c0b54-2000-41a2-b723-01a156759a03",
   "metadata": {},
   "outputs": [],
   "source": [
    "scpoli_model.model.eval()\n",
    "data_latent_source = scpoli_model.get_latent(\n",
    "    adata_onek1k_frac.X.toarray(), \n",
    "    adata_onek1k_frac.obs[condition_key].values,\n",
    "    mean=True\n",
    ")\n",
    "\n",
    "adata_latent_source = sc.AnnData(data_latent_source)\n",
    "adata_latent_source.obs = adata_onek1k_frac.obs.copy()"
   ]
  },
  {
   "cell_type": "code",
   "execution_count": null,
   "id": "bac8864d-c0e0-468b-b32f-c551d6aa76b5",
   "metadata": {},
   "outputs": [],
   "source": [
    "sc.pp.neighbors(adata_latent_source, n_neighbors=15)\n",
    "sc.tl.umap(adata_latent_source)"
   ]
  },
  {
   "cell_type": "code",
   "execution_count": null,
   "id": "13dd8566-a4b2-4109-94d7-155c56804ab1",
   "metadata": {},
   "outputs": [],
   "source": [
    "sc.pl.umap(\n",
    "    adata_latent_source, \n",
    "    color='sample',\n",
    "    show=False, \n",
    "    frameon=False,\n",
    "    palette=matplotlib.rcParams[\"axes.prop_cycle\"]\n",
    "    # legend_loc=None,\n",
    ")"
   ]
  },
  {
   "cell_type": "code",
   "execution_count": null,
   "id": "07852af4-2b75-4286-be0c-27f4609ff531",
   "metadata": {},
   "outputs": [],
   "source": [
    "sc.pl.umap(\n",
    "    adata_latent_source, \n",
    "    color='cell_type',\n",
    "    show=False, \n",
    "    frameon=False,\n",
    "    palette=matplotlib.rcParams[\"axes.prop_cycle\"]\n",
    "    # legend_loc=None,\n",
    ")"
   ]
  },
  {
   "cell_type": "markdown",
   "id": "02e48089-ece8-4af3-8bf9-44205da35ca5",
   "metadata": {
    "jp-MarkdownHeadingCollapsed": true,
    "tags": []
   },
   "source": [
    "## Perez query mapping"
   ]
  },
  {
   "cell_type": "code",
   "execution_count": null,
   "id": "fe72fc23-a92f-4d16-94a6-61011a2610ea",
   "metadata": {},
   "outputs": [],
   "source": [
    "adata_perez_query\n",
    "adata_perez_train"
   ]
  },
  {
   "cell_type": "code",
   "execution_count": null,
   "id": "e94143b2-2231-475a-83bb-57d2b68f87d8",
   "metadata": {},
   "outputs": [],
   "source": [
    "scpoli_model = scPoli.load('../models/onek1k_only/', adata_onek1k1)\n",
    "\n",
    "scpoli_query = scPoli.load_query_data(\n",
    "    adata=adata_perez_query,\n",
    "    reference_model=scpoli_model,\n",
    "    labeled_indices=[],\n",
    ")"
   ]
  },
  {
   "cell_type": "code",
   "execution_count": null,
   "id": "a21b45a3-dbe3-4c89-8c69-eb774ea62804",
   "metadata": {},
   "outputs": [],
   "source": [
    "scpoli_query.train(\n",
    "    n_epochs=50,\n",
    "    pretraining_epochs=40,\n",
    "    eta=5\n",
    ")"
   ]
  },
  {
   "cell_type": "code",
   "execution_count": null,
   "id": "fc25134b-ac0a-4f7e-801c-a5822d9a428e",
   "metadata": {},
   "outputs": [],
   "source": []
  }
 ],
 "metadata": {
  "kernelspec": {
   "display_name": "scarches_p_3_10",
   "language": "python",
   "name": "scarches_p_3_10"
  },
  "language_info": {
   "codemirror_mode": {
    "name": "ipython",
    "version": 3
   },
   "file_extension": ".py",
   "mimetype": "text/x-python",
   "name": "python",
   "nbconvert_exporter": "python",
   "pygments_lexer": "ipython3",
   "version": "3.10.8"
  }
 },
 "nbformat": 4,
 "nbformat_minor": 5
}
